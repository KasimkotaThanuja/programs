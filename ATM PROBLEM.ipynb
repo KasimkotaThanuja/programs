{
 "cells": [
  {
   "cell_type": "code",
   "execution_count": 3,
   "id": "61ee7837-02fc-452b-b8d9-38ee4ba33e82",
   "metadata": {},
   "outputs": [
    {
     "name": "stdout",
     "output_type": "stream",
     "text": [
      "\n",
      "-----ATM Transaction Menu----\n",
      "1.deposite\n",
      "2. withdraw\n",
      "3. history\n",
      "4. exit\n"
     ]
    },
    {
     "name": "stdin",
     "output_type": "stream",
     "text": [
      "enter your choice: 1\n",
      "enter amount to deposite: 100\n"
     ]
    },
    {
     "name": "stdout",
     "output_type": "stream",
     "text": [
      "\n",
      "-----ATM Transaction Menu----\n",
      "1.deposite\n",
      "2. withdraw\n",
      "3. history\n",
      "4. exit\n"
     ]
    },
    {
     "name": "stdin",
     "output_type": "stream",
     "text": [
      "enter your choice: 1\n",
      "enter amount to deposite: 200\n"
     ]
    },
    {
     "name": "stdout",
     "output_type": "stream",
     "text": [
      "deposite of Rs.200.0 recorded...\n",
      "\n",
      "-----ATM Transaction Menu----\n",
      "1.deposite\n",
      "2. withdraw\n",
      "3. history\n",
      "4. exit\n"
     ]
    },
    {
     "name": "stdin",
     "output_type": "stream",
     "text": [
      "enter your choice: 1\n",
      "enter amount to deposite: 300\n"
     ]
    },
    {
     "name": "stdout",
     "output_type": "stream",
     "text": [
      "deposite of Rs.300.0 recorded...\n",
      "\n",
      "-----ATM Transaction Menu----\n",
      "1.deposite\n",
      "2. withdraw\n",
      "3. history\n",
      "4. exit\n"
     ]
    },
    {
     "name": "stdin",
     "output_type": "stream",
     "text": [
      "enter your choice: 2\n",
      "enter amount to withdraw: 200\n"
     ]
    },
    {
     "name": "stdout",
     "output_type": "stream",
     "text": [
      "withdraw of Rs.200.0 recorded...\n",
      "\n",
      "-----ATM Transaction Menu----\n",
      "1.deposite\n",
      "2. withdraw\n",
      "3. history\n",
      "4. exit\n"
     ]
    },
    {
     "name": "stdin",
     "output_type": "stream",
     "text": [
      "enter your choice: 3\n"
     ]
    },
    {
     "name": "stdout",
     "output_type": "stream",
     "text": [
      "\n",
      " Transaction History \n",
      "1,deposite- Rs100.0\n",
      "2,deposite- Rs200.0\n",
      "3,deposite- Rs300.0\n",
      "4,withdraw- Rs200.0\n",
      "\n",
      "-----ATM Transaction Menu----\n",
      "1.deposite\n",
      "2. withdraw\n",
      "3. history\n",
      "4. exit\n"
     ]
    },
    {
     "name": "stdin",
     "output_type": "stream",
     "text": [
      "enter your choice: 4\n"
     ]
    },
    {
     "name": "stdout",
     "output_type": "stream",
     "text": [
      "end of transaction...exit!!!\n"
     ]
    }
   ],
   "source": [
    "class Transaction:\n",
    "    def __init__(self,transaction_type, amount):\n",
    "        self.type= transaction_type\n",
    "        self.amount=amount\n",
    "        self.next=None\n",
    "class TransactionHistory:\n",
    "    def __init__(self):\n",
    "        self.head=None\n",
    "    def add_transaction(self,transaction_type,amount):\n",
    "        nn=Transaction(transaction_type,amount)\n",
    "        if not self.head:\n",
    "            self.head=nn\n",
    "        else:\n",
    "            current=self.head\n",
    "            while current.next:\n",
    "                current=current.next\n",
    "            current.next=nn\n",
    "            print(f\"{transaction_type} of Rs.{amount} recorded...\")\n",
    "    def show_history(self):\n",
    "        if not self.head:\n",
    "            print(\"no Transaction found....\")\n",
    "            return\n",
    "        print(\"\\n Transaction History \")\n",
    "        current=self.head\n",
    "        count=1\n",
    "        while current :\n",
    "            print(f\"{count},{current.type}- Rs{current.amount}\")\n",
    "            current=current.next\n",
    "            count+=1\n",
    "\n",
    "\n",
    "\n",
    "\n",
    "history= TransactionHistory()\n",
    "while True:\n",
    "    print(\"\\n-----ATM Transaction Menu----\")\n",
    "    print(\"1.deposite\")\n",
    "    print(\"2. withdraw\")\n",
    "    print(\"3. history\")\n",
    "    print(\"4. exit\")\n",
    "    choice=input(\"enter your choice:\")\n",
    "    if choice=='1':\n",
    "       amount= float(input(\"enter amount to deposite:\"))\n",
    "       history.add_transaction(\"deposite\", amount)\n",
    "    elif choice=='2':\n",
    "         amount=float(input(\"enter amount to withdraw:\"))\n",
    "         history.add_transaction(\"withdraw\", amount)\n",
    "    elif choice=='3':\n",
    "         history.show_history()\n",
    "    elif choice=='4':\n",
    "        print(\"end of transaction...exit!!!\")\n",
    "        break\n",
    "    else:\n",
    "        print(\"choose 1/2/3/4 only\")\n",
    "    "
   ]
  },
  {
   "cell_type": "code",
   "execution_count": null,
   "id": "97a82252-080f-49e5-bf9a-673f450f7f09",
   "metadata": {},
   "outputs": [],
   "source": [
    "''' consider a single linked list  with insert at end nodes after insertion reverse the node to print\n",
    "input - 11-22-33-44-55-null\n",
    "output- 55-44-33-22-11-null'''"
   ]
  }
 ],
 "metadata": {
  "kernelspec": {
   "display_name": "Python 3 (ipykernel)",
   "language": "python",
   "name": "python3"
  },
  "language_info": {
   "codemirror_mode": {
    "name": "ipython",
    "version": 3
   },
   "file_extension": ".py",
   "mimetype": "text/x-python",
   "name": "python",
   "nbconvert_exporter": "python",
   "pygments_lexer": "ipython3",
   "version": "3.12.7"
  }
 },
 "nbformat": 4,
 "nbformat_minor": 5
}
