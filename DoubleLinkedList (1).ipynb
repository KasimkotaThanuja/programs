{
 "cells": [
  {
   "cell_type": "code",
   "execution_count": null,
   "id": "0e9a9f9e-dd0c-4203-83f6-698e27323a62",
   "metadata": {},
   "outputs": [],
   "source": [
    "'''double LL\n",
    "operations\n",
    "1. insertion -at begin,end,position\n",
    "2. deletion - by value\n",
    "3.traversal - forward/backward\n",
    "\n",
    "head<---->node1<--->node2<---->node3<---->null\n",
    "\n",
    "node:\n",
    "class node:\n",
    "         def __init__(self,data):\n",
    "                  self.data=data\n",
    "                  self.next=None\n",
    "                  self.prev=None'''\n",
    "         \n"
   ]
  },
  {
   "cell_type": "code",
   "execution_count": 1,
   "id": "33ed5858-aea0-4025-9349-cc7f86bdb2a9",
   "metadata": {},
   "outputs": [
    {
     "name": "stdin",
     "output_type": "stream",
     "text": [
      "enter the number of elements to insert at end: 5\n",
      "enter element 1: 22\n",
      "enter element 2: 33\n",
      "enter element 3: 44\n",
      "enter element 4: 55\n",
      "enter element 5: 66\n"
     ]
    },
    {
     "name": "stdout",
     "output_type": "stream",
     "text": [
      "Doubly Linked List:\n",
      "22<->33<->44<->55<->66<->None\n"
     ]
    }
   ],
   "source": [
    "#at the end insertion on DLL\n",
    "\n",
    "class Node:\n",
    "    def __init__(self,data):\n",
    "        self.data=data\n",
    "        self.prev=None\n",
    "        self.next=None\n",
    "class DoublyLinkedList:\n",
    "    def __init__(self):\n",
    "        self.head=None\n",
    "    def iae(self,data):\n",
    "        newnode= Node(data)\n",
    "        if self.head is None:\n",
    "            self.head=newnode\n",
    "            return\n",
    "        temp= self.head\n",
    "        while temp.next:\n",
    "            temp=temp.next\n",
    "        temp.next=newnode\n",
    "        newnode.prev=temp\n",
    "    def display(self):\n",
    "        temp=self.head\n",
    "        print(\"Doubly Linked List:\")\n",
    "        while temp:\n",
    "            print(temp.data, end=\"<->\")\n",
    "            temp=temp.next\n",
    "        print(\"None\")\n",
    "        \n",
    "    \n",
    "\n",
    "\n",
    "dll=DoublyLinkedList()\n",
    "n= int(input(\"enter the number of elements to insert at end:\"))\n",
    "\n",
    "\n",
    "for i in range(n):\n",
    "    val=int(input(f\"enter element {i+1}:\"))\n",
    "    dll.iae(val)\n",
    "dll.display()\n",
    "            "
   ]
  },
  {
   "cell_type": "code",
   "execution_count": 3,
   "id": "d8f14860-bdb8-4c97-a636-f9b27f36831c",
   "metadata": {},
   "outputs": [
    {
     "name": "stdin",
     "output_type": "stream",
     "text": [
      "enter the number of elements to insert at bgin: 4\n",
      "enter element 1: 99\n",
      "enter element 2: 88\n",
      "enter element 3: 77\n",
      "enter element 4: 66\n"
     ]
    },
    {
     "name": "stdout",
     "output_type": "stream",
     "text": [
      "Doubly Linked List:\n",
      "66<->77<->88<->99<->None\n"
     ]
    }
   ],
   "source": [
    "class Node:\n",
    "    def __init__(self,data):\n",
    "        self.data=data\n",
    "        self.prev=None\n",
    "        self.next=None\n",
    "class DoublyLinkedList:\n",
    "    def __init__(self):\n",
    "        self.head=None\n",
    "    def iab(self,data):\n",
    "        newnode= Node(data)\n",
    "        newnode.next= self.head\n",
    "        if self.head:\n",
    "            self.head.prev=newnode\n",
    "        self.head= newnode\n",
    "           \n",
    "    \n",
    "    def display(self):\n",
    "        temp=self.head\n",
    "        print(\"Doubly Linked List:\")\n",
    "        while temp:\n",
    "            print(temp.data, end=\"<->\")\n",
    "            temp=temp.next\n",
    "        print(\"None\")\n",
    "        \n",
    "    \n",
    "\n",
    "\n",
    "dll=DoublyLinkedList()\n",
    "n= int(input(\"enter the number of elements to insert at bgin:\"))\n",
    "for i in range(n):\n",
    "    val=int(input(f\"enter element {i+1}:\"))\n",
    "    dll.iab(val)\n",
    "dll.display()\n",
    "            "
   ]
  },
  {
   "cell_type": "code",
   "execution_count": 18,
   "id": "21c2aa58-3b74-451a-93ea-3888e37e6353",
   "metadata": {},
   "outputs": [
    {
     "name": "stdin",
     "output_type": "stream",
     "text": [
      "Enter the number of elements to insert at position: 4\n",
      "Enter element 1: 99\n",
      "Enter the position 1: 1\n",
      "Enter element 2: 88\n",
      "Enter the position 2: 2\n",
      "Enter element 3: 7\n",
      "Enter the position 3: 3\n",
      "Enter element 4: 6\n",
      "Enter the position 4: 4\n"
     ]
    },
    {
     "name": "stdout",
     "output_type": "stream",
     "text": [
      "Double Linked List:\n",
      "99<-->88<-->7<-->6<-->None\n"
     ]
    }
   ],
   "source": [
    "## Double Linkedlist insertion at the position\n",
    "class Node:\n",
    "    def __init__(self,data):\n",
    "        self.data=data\n",
    "        self.prev=None\n",
    "        self.next=None\n",
    "class DoubleLinkedList:\n",
    "    def __init__(self):\n",
    "        self.head=None\n",
    "    def iap(self,data,pos):\n",
    "        newnode=Node(data)\n",
    "        if pos<=0:\n",
    "            print(\"Invalid position\")\n",
    "            return\n",
    "        if pos==1:\n",
    "            newnode.next=self.head\n",
    "            if self.head:\n",
    "                self.head.prev=newnode\n",
    "            self.head=newnode\n",
    "            return\n",
    "        temp=self.head\n",
    "        for _ in range(pos-2):\n",
    "            if temp is None:\n",
    "                print(\"Positon off range:\")\n",
    "                return\n",
    "            temp=temp.next\n",
    "        if temp is None:\n",
    "            print(\"No Element..!\")\n",
    "            return\n",
    "        newnode.next=temp.next\n",
    "        newnode.prev=temp\n",
    "        if temp.next:\n",
    "            temp.next=newnode\n",
    "        temp.next=newnode\n",
    "    def display(self):\n",
    "        current=self.head\n",
    "        print(\"Double Linked List:\")\n",
    "        while current:\n",
    "            print(current.data, end=\"<-->\")\n",
    "            current=current.next\n",
    "        print(\"None\")\n",
    "dll=DoubleLinkedList()\n",
    "n=int(input(\"Enter the number of elements to insert at position:\"))\n",
    "for i in range(n):\n",
    "    value=int(input(f\"Enter element {i+1}:\"))\n",
    "    pos=int(input(f\"Enter the position {i+1}:\"))\n",
    "    dll.iap(value,pos)\n",
    "dll.display()\n"
   ]
  },
  {
   "cell_type": "code",
   "execution_count": null,
   "id": "8fc22e49-c3bd-44cf-bb4a-c99b5d23cd1c",
   "metadata": {},
   "outputs": [],
   "source": []
  }
 ],
 "metadata": {
  "kernelspec": {
   "display_name": "Python 3 (ipykernel)",
   "language": "python",
   "name": "python3"
  },
  "language_info": {
   "codemirror_mode": {
    "name": "ipython",
    "version": 3
   },
   "file_extension": ".py",
   "mimetype": "text/x-python",
   "name": "python",
   "nbconvert_exporter": "python",
   "pygments_lexer": "ipython3",
   "version": "3.12.7"
  }
 },
 "nbformat": 4,
 "nbformat_minor": 5
}
