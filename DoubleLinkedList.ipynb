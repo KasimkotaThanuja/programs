{
 "cells": [
  {
   "cell_type": "code",
   "execution_count": null,
   "id": "0e9a9f9e-dd0c-4203-83f6-698e27323a62",
   "metadata": {
    "jupyter": {
     "source_hidden": true
    }
   },
   "outputs": [],
   "source": [
    "'''double LL\n",
    "operations\n",
    "1. insertion -at begin,end,position\n",
    "2. deletion - by value\n",
    "3.traversal - forward/backward\n",
    "\n",
    "head<---->node1<--->node2<---->node3<---->null\n",
    "\n",
    "node:\n",
    "class node:\n",
    "         def __init__(self,data):\n",
    "                  self.data=data\n",
    "                  self.next=None\n",
    "                  self.prev=None'''\n",
    "         \n"
   ]
  },
  {
   "cell_type": "code",
   "execution_count": 1,
   "id": "33ed5858-aea0-4025-9349-cc7f86bdb2a9",
   "metadata": {},
   "outputs": [
    {
     "name": "stdin",
     "output_type": "stream",
     "text": [
      "enter the number of elements to insert at end: 5\n",
      "enter element 1: 22\n",
      "enter element 2: 33\n",
      "enter element 3: 44\n",
      "enter element 4: 55\n",
      "enter element 5: 66\n"
     ]
    },
    {
     "name": "stdout",
     "output_type": "stream",
     "text": [
      "Doubly Linked List:\n",
      "22<->33<->44<->55<->66<->None\n"
     ]
    }
   ],
   "source": [
    "#at the end insertion on DLL\n",
    "\n",
    "class Node:\n",
    "    def __init__(self,data):\n",
    "        self.data=data\n",
    "        self.prev=None\n",
    "        self.next=None\n",
    "class DoublyLinkedList:\n",
    "    def __init__(self):\n",
    "        self.head=None\n",
    "    def iae(self,data):\n",
    "        newnode= Node(data)\n",
    "        if self.head is None:\n",
    "            self.head=newnode\n",
    "            return\n",
    "        temp= self.head\n",
    "        while temp.next:\n",
    "            temp=temp.next\n",
    "        temp.next=newnode\n",
    "        newnode.prev=temp\n",
    "    def display(self):\n",
    "        temp=self.head\n",
    "        print(\"Doubly Linked List:\")\n",
    "        while temp:\n",
    "            print(temp.data, end=\"<->\")\n",
    "            temp=temp.next\n",
    "        print(\"None\")\n",
    "        \n",
    "    \n",
    "\n",
    "\n",
    "dll=DoublyLinkedList()\n",
    "n= int(input(\"enter the number of elements to insert at end:\"))\n",
    "\n",
    "\n",
    "for i in range(n):\n",
    "    val=int(input(f\"enter element {i+1}:\"))\n",
    "    dll.iae(val)\n",
    "dll.display()\n",
    "            "
   ]
  },
  {
   "cell_type": "code",
   "execution_count": 3,
   "id": "d8f14860-bdb8-4c97-a636-f9b27f36831c",
   "metadata": {},
   "outputs": [
    {
     "name": "stdin",
     "output_type": "stream",
     "text": [
      "enter the number of elements to insert at bgin: 4\n",
      "enter element 1: 99\n",
      "enter element 2: 88\n",
      "enter element 3: 77\n",
      "enter element 4: 66\n"
     ]
    },
    {
     "name": "stdout",
     "output_type": "stream",
     "text": [
      "Doubly Linked List:\n",
      "66<->77<->88<->99<->None\n"
     ]
    }
   ],
   "source": [
    "class Node:\n",
    "    def __init__(self,data):\n",
    "        self.data=data\n",
    "        self.prev=None\n",
    "        self.next=None\n",
    "class DoublyLinkedList:\n",
    "    def __init__(self):\n",
    "        self.head=None\n",
    "    def iab(self,data):\n",
    "        newnode= Node(data)\n",
    "        newnode.next= self.head\n",
    "        if self.head:\n",
    "            self.head.prev=newnode\n",
    "        self.head= newnode\n",
    "           \n",
    "    \n",
    "    def display(self):\n",
    "        temp=self.head\n",
    "        print(\"Doubly Linked List:\")\n",
    "        while temp:\n",
    "            print(temp.data, end=\"<->\")\n",
    "            temp=temp.next\n",
    "        print(\"None\")\n",
    "        \n",
    "    \n",
    "\n",
    "\n",
    "dll=DoublyLinkedList()\n",
    "n= int(input(\"enter the number of elements to insert at bgin:\"))\n",
    "for i in range(n):\n",
    "    val=int(input(f\"enter element {i+1}:\"))\n",
    "    dll.iab(val)\n",
    "dll.display()\n",
    "            "
   ]
  },
  {
   "cell_type": "code",
   "execution_count": null,
   "id": "3899c193-fcba-46fc-bb13-06e489831ab1",
   "metadata": {},
   "outputs": [],
   "source": []
  }
 ],
 "metadata": {
  "kernelspec": {
   "display_name": "Python 3 (ipykernel)",
   "language": "python",
   "name": "python3"
  },
  "language_info": {
   "codemirror_mode": {
    "name": "ipython",
    "version": 3
   },
   "file_extension": ".py",
   "mimetype": "text/x-python",
   "name": "python",
   "nbconvert_exporter": "python",
   "pygments_lexer": "ipython3",
   "version": "3.12.7"
  }
 },
 "nbformat": 4,
 "nbformat_minor": 5
}
