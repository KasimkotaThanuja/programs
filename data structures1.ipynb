{
 "cells": [
  {
   "cell_type": "code",
   "execution_count": 3,
   "id": "60a66be7-06b5-409e-ab6b-401c37828893",
   "metadata": {},
   "outputs": [
    {
     "name": "stdout",
     "output_type": "stream",
     "text": [
      "[10, 20, 25, 30, 40, 50]\n",
      "[10, 20, 25, 40]\n",
      "10 20 25 40 \n",
      " 25 in array? True\n"
     ]
    }
   ],
   "source": [
    "'''#array operations\n",
    "#program to consider a list arr=[10,20,30,40] and perform insert  operation eith 50 and 25 at position 2 respetively delete 30 and traverse the array to \n",
    "fetch a number 25 is present or not.'''''\n",
    "arr=[10,20,30,40]\n",
    "#insert\n",
    "arr.append(50)\n",
    "arr.insert(2,25)\n",
    "print(arr)\n",
    "#deletion\n",
    "arr.remove(30)\n",
    "arr.pop()\n",
    "print(arr)\n",
    "#ttraversel\n",
    "for i in arr:\n",
    "    print(i, end=' ')\n",
    "\n",
    "#searching\n",
    "print(\"\\n 25 in array?\", 25 in arr)"
   ]
  },
  {
   "cell_type": "code",
   "execution_count": 4,
   "id": "512f5e29-c6fa-476c-8fed-8795a350828f",
   "metadata": {},
   "outputs": [
    {
     "name": "stdin",
     "output_type": "stream",
     "text": [
      "enter a name: malayalam\n"
     ]
    },
    {
     "name": "stdout",
     "output_type": "stream",
     "text": [
      "palindrom\n",
      "{'m': 2, 'a': 4, 'l': 2, 'y': 1}\n"
     ]
    }
   ],
   "source": [
    "''''program to check whether the given string is palindrome or not and count the palindromeic characters which are repeated\n",
    "str=madam\n",
    "output:{'m':2,'a':2,'d':1} \n",
    "str=malayalam'''\n",
    "text=input(\"enter a name:\")\n",
    "if text==text[::-1]:\n",
    "    print(\"palindrom\")\n",
    "else:\n",
    "     print(\"not\")\n",
    "freq={}\n",
    "for ch in text:\n",
    "    freq[ch]= freq.get(ch,0)+1\n",
    "print(freq)"
   ]
  },
  {
   "cell_type": "code",
   "execution_count": 9,
   "id": "75baaa31-e91f-47b5-b61a-c8c2dc26665b",
   "metadata": {},
   "outputs": [
    {
     "name": "stdin",
     "output_type": "stream",
     "text": [
      "enter the size of array: 4\n"
     ]
    },
    {
     "name": "stdout",
     "output_type": "stream",
     "text": [
      "Enter the elements:\n"
     ]
    },
    {
     "name": "stdin",
     "output_type": "stream",
     "text": [
      "Enter number1: 1\n",
      "Enter number2: 2\n",
      "Enter number3: \n"
     ]
    },
    {
     "ename": "ValueError",
     "evalue": "invalid literal for int() with base 10: ''",
     "output_type": "error",
     "traceback": [
      "\u001b[1;31m---------------------------------------------------------------------------\u001b[0m",
      "\u001b[1;31mValueError\u001b[0m                                Traceback (most recent call last)",
      "Cell \u001b[1;32mIn[9], line 10\u001b[0m\n\u001b[0;32m      8\u001b[0m \u001b[38;5;28mprint\u001b[39m(\u001b[38;5;124m\"\u001b[39m\u001b[38;5;124mEnter the elements:\u001b[39m\u001b[38;5;124m\"\u001b[39m)\n\u001b[0;32m      9\u001b[0m \u001b[38;5;28;01mfor\u001b[39;00m i \u001b[38;5;129;01min\u001b[39;00m \u001b[38;5;28mrange\u001b[39m(size):\n\u001b[1;32m---> 10\u001b[0m     num\u001b[38;5;241m=\u001b[39m\u001b[38;5;28mint\u001b[39m(\u001b[38;5;28minput\u001b[39m(\u001b[38;5;124mf\u001b[39m\u001b[38;5;124m\"\u001b[39m\u001b[38;5;124mEnter number\u001b[39m\u001b[38;5;132;01m{\u001b[39;00mi\u001b[38;5;241m+\u001b[39m\u001b[38;5;241m1\u001b[39m\u001b[38;5;132;01m}\u001b[39;00m\u001b[38;5;124m:\u001b[39m\u001b[38;5;124m\"\u001b[39m))\n\u001b[0;32m     11\u001b[0m     arr\u001b[38;5;241m.\u001b[39mappend(num)\n\u001b[0;32m     12\u001b[0m key\u001b[38;5;241m=\u001b[39m\u001b[38;5;28mint\u001b[39m(\u001b[38;5;28minput\u001b[39m(\u001b[38;5;124m\"\u001b[39m\u001b[38;5;124menter the element to search:\u001b[39m\u001b[38;5;124m\"\u001b[39m))\n",
      "\u001b[1;31mValueError\u001b[0m: invalid literal for int() with base 10: ''"
     ]
    }
   ],
   "source": [
    "def linear_search(arr,key):\n",
    "    for i in range(len(arr)):\n",
    "        if arr[i]==key:\n",
    "            return i\n",
    "    return -1\n",
    "size=int(input(\"enter the size of array:\"))\n",
    "arr=[]\n",
    "print(\"Enter the elements:\")\n",
    "for i in range(size):\n",
    "    num=int(input(f\"Enter number{i+1}:\"))\n",
    "    arr.append(num)\n",
    "key=int(input(\"enter the element to search:\"))\n",
    "result=linear_search(arr,key)\n",
    "if result!= -1:\n",
    "    print(f\"\\n element {key} found at {result}\")\n",
    "else:\n",
    "    print(f\"\\n element {key} not found in the array\")"
   ]
  },
  {
   "cell_type": "code",
   "execution_count": null,
   "id": "a17179c2-fe9b-4df5-9eed-a9dc710df099",
   "metadata": {},
   "outputs": [],
   "source": []
  }
 ],
 "metadata": {
  "kernelspec": {
   "display_name": "Python 3 (ipykernel)",
   "language": "python",
   "name": "python3"
  },
  "language_info": {
   "codemirror_mode": {
    "name": "ipython",
    "version": 3
   },
   "file_extension": ".py",
   "mimetype": "text/x-python",
   "name": "python",
   "nbconvert_exporter": "python",
   "pygments_lexer": "ipython3",
   "version": "3.12.7"
  }
 },
 "nbformat": 4,
 "nbformat_minor": 5
}
