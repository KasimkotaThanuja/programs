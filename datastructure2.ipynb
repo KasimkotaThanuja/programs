{
 "cells": [
  {
   "cell_type": "code",
   "execution_count": 3,
   "id": "52249de5-2f39-466d-ba57-f8d69aaf4b82",
   "metadata": {},
   "outputs": [
    {
     "name": "stdout",
     "output_type": "stream",
     "text": [
      "element 7 found at index: 3\n"
     ]
    }
   ],
   "source": [
    "import math\n",
    "def jump_search(arr,target):\n",
    "    if not arr:\n",
    "        return -1\n",
    "    n=len(arr)\n",
    "    step=int(math.sqrt(n))\n",
    "    prev=0\n",
    "    while prev <n and arr[prev]<target:\n",
    "        prev +=step\n",
    "    for i in range(max(0,prev-step),min(n,prev+1)):\n",
    "        if arr[i]==target:\n",
    "            return i\n",
    "    return -1\n",
    "        \n",
    "arr=[1,3,5,7,9,11]\n",
    "target=7\n",
    "result=jump_search(arr,target)\n",
    "print(f\"element {target} found at index: {result}\")"
   ]
  },
  {
   "cell_type": "code",
   "execution_count": 5,
   "id": "21959a08-31c8-41b4-a22c-87081d65578f",
   "metadata": {},
   "outputs": [
    {
     "name": "stdout",
     "output_type": "stream",
     "text": [
      "element 10 found at index:4\n"
     ]
    }
   ],
   "source": [
    "def bsearch_range(arr,target,left, right):\n",
    "    while left<=right:\n",
    "        mid=(left+right)//2\n",
    "        if arr[mid]==target:\n",
    "            return mid\n",
    "        elif arr[mid]<target:\n",
    "            left=mid+1\n",
    "        else:\n",
    "            right=mid-1\n",
    "    return -1\n",
    "\n",
    "def expo_search(arr,target):\n",
    "    if not arr:\n",
    "        return -1\n",
    "    if arr[0]==target:\n",
    "        return 0\n",
    "    n=len(arr)\n",
    "    i=1\n",
    "    while i<n and arr[i]<=target:\n",
    "        i *=2\n",
    "    return bsearch_range(arr,target,i//2, min(i,n-1))\n",
    "arr=[2,4,6,8,10,12,14]\n",
    "target=10\n",
    "result=expo_search(arr,target)\n",
    "print(f\"element {target} found at index:{result}\")\n"
   ]
  },
  {
   "cell_type": "code",
   "execution_count": 7,
   "id": "6a4719b2-3bb8-42b7-8716-70d279b78155",
   "metadata": {},
   "outputs": [
    {
     "name": "stdout",
     "output_type": "stream",
     "text": [
      "element 10 found at index:4\n"
     ]
    }
   ],
   "source": [
    "def fibsearch(arr, target):\n",
    "    if not  arr:\n",
    "        return -1\n",
    "    n=len(arr)\n",
    "    fib2=0\n",
    "    fib1=1\n",
    "    fib=fib1+fib2\n",
    "    while fib<n:\n",
    "        fib2=fib1\n",
    "        fib1=fib\n",
    "        fib=fib1+fib2\n",
    "    offset=-1\n",
    "    while fib>1:\n",
    "        i=min(offset+fib2,n-1)\n",
    "        if arr[i]==target:\n",
    "            return i\n",
    "        elif arr[i]<target:\n",
    "            offset=i\n",
    "            fib=fib1\n",
    "            fib1=fib2\n",
    "            fib2=fib-fib1\n",
    "        else:\n",
    "            fib=fib2\n",
    "            fib1=fib1-fib2\n",
    "            fib2=fib-fib1\n",
    "    if fib==-1 and offset+1<n and arr[ofset+1]==target:\n",
    "        return offset+1\n",
    "    return -1\n",
    "arr=[2,4,6,8,10,12]\n",
    "target=10\n",
    "result=fibsearch(arr,target)\n",
    "print(f\"element {target} found at index:{result}\")"
   ]
  },
  {
   "cell_type": "code",
   "execution_count": null,
   "id": "5a07b71b-596c-4c0b-87bf-dc34d9adead1",
   "metadata": {},
   "outputs": [],
   "source": []
  }
 ],
 "metadata": {
  "kernelspec": {
   "display_name": "Python 3 (ipykernel)",
   "language": "python",
   "name": "python3"
  },
  "language_info": {
   "codemirror_mode": {
    "name": "ipython",
    "version": 3
   },
   "file_extension": ".py",
   "mimetype": "text/x-python",
   "name": "python",
   "nbconvert_exporter": "python",
   "pygments_lexer": "ipython3",
   "version": "3.12.7"
  }
 },
 "nbformat": 4,
 "nbformat_minor": 5
}
