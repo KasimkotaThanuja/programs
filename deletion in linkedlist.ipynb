{
 "cells": [
  {
   "cell_type": "code",
   "execution_count": 1,
   "id": "d1358d08-8a5b-4299-b31e-66a7fa342e3f",
   "metadata": {},
   "outputs": [
    {
     "name": "stdout",
     "output_type": "stream",
     "text": [
      "\n",
      " LinkedList-Insert at position...\n",
      "1.Insert\n",
      "2.Display\n",
      "3.delete by value\n",
      "4.Exit\n"
     ]
    },
    {
     "name": "stdin",
     "output_type": "stream",
     "text": [
      "Enter your choice: 1\n",
      "Enter a value to insert: 22\n"
     ]
    },
    {
     "name": "stdout",
     "output_type": "stream",
     "text": [
      "\n",
      " LinkedList-Insert at position...\n",
      "1.Insert\n",
      "2.Display\n",
      "3.delete by value\n",
      "4.Exit\n"
     ]
    },
    {
     "name": "stdin",
     "output_type": "stream",
     "text": [
      "Enter your choice: 1\n",
      "Enter a value to insert: 33\n"
     ]
    },
    {
     "name": "stdout",
     "output_type": "stream",
     "text": [
      "\n",
      " LinkedList-Insert at position...\n",
      "1.Insert\n",
      "2.Display\n",
      "3.delete by value\n",
      "4.Exit\n"
     ]
    },
    {
     "name": "stdin",
     "output_type": "stream",
     "text": [
      "Enter your choice: 1\n",
      "Enter a value to insert: 44\n"
     ]
    },
    {
     "name": "stdout",
     "output_type": "stream",
     "text": [
      "\n",
      " LinkedList-Insert at position...\n",
      "1.Insert\n",
      "2.Display\n",
      "3.delete by value\n",
      "4.Exit\n"
     ]
    },
    {
     "name": "stdin",
     "output_type": "stream",
     "text": [
      "Enter your choice: 2\n"
     ]
    },
    {
     "name": "stdout",
     "output_type": "stream",
     "text": [
      "22---33---44---None\n",
      "\n",
      " LinkedList-Insert at position...\n",
      "1.Insert\n",
      "2.Display\n",
      "3.delete by value\n",
      "4.Exit\n"
     ]
    },
    {
     "name": "stdin",
     "output_type": "stream",
     "text": [
      "Enter your choice: 3\n",
      "Enter the value , you want to delete: 22\n"
     ]
    },
    {
     "name": "stdout",
     "output_type": "stream",
     "text": [
      "22 deleted from the list\n",
      "\n",
      " LinkedList-Insert at position...\n",
      "1.Insert\n",
      "2.Display\n",
      "3.delete by value\n",
      "4.Exit\n"
     ]
    },
    {
     "name": "stdin",
     "output_type": "stream",
     "text": [
      "Enter your choice: 2\n"
     ]
    },
    {
     "name": "stdout",
     "output_type": "stream",
     "text": [
      "33---44---None\n",
      "\n",
      " LinkedList-Insert at position...\n",
      "1.Insert\n",
      "2.Display\n",
      "3.delete by value\n",
      "4.Exit\n"
     ]
    },
    {
     "name": "stdin",
     "output_type": "stream",
     "text": [
      "Enter your choice: 4\n"
     ]
    },
    {
     "name": "stdout",
     "output_type": "stream",
     "text": [
      "Exit\n"
     ]
    }
   ],
   "source": [
    "'''delete  operation by value with the insertion at end on linked list''''\n",
    "class Node:\n",
    "    def __init__(self,data):\n",
    "        self.data=data\n",
    "        self.next=None\n",
    "class LinkedList:\n",
    "    def __init__(self):\n",
    "        self.head=None\n",
    "    def iae(self,data):\n",
    "        newnode=Node(data)\n",
    "        if not self.head:\n",
    "            self.head=newnode\n",
    "            return\n",
    "        current=self.head\n",
    "        while current.next:\n",
    "            current=current.next\n",
    "        current.next=newnode\n",
    "    def deletevalue(self,key):\n",
    "        current= self.head\n",
    "        if not current:\n",
    "            print(\"Empty LL\")\n",
    "            return\n",
    "        if current.data==key:\n",
    "            self.head= current.next\n",
    "            print(f\"{key} deleted from the list\")\n",
    "            return\n",
    "        prev=None\n",
    "        while current and current.data != key:\n",
    "            prev=current\n",
    "            current=current.next\n",
    "        if not current:\n",
    "            print(f\"{key} not found in the LL\")\n",
    "            return\n",
    "        prev.next= current.next\n",
    "        print(f\"{key} deleted from the LL\")\n",
    "   \n",
    "    def display(self):\n",
    "        current=self.head\n",
    "        if not current:\n",
    "            print(\"LL-Empty\")\n",
    "            return\n",
    "        while current:\n",
    "            print(current.data, end=\"---\")\n",
    "            current=current.next\n",
    "        print(\"None\")\n",
    "ll=LinkedList()\n",
    "while True:\n",
    "    print(\"\\n LinkedList-Insert at position...\")\n",
    "    print(\"1.Insert\")\n",
    "    print(\"2.Display\")\n",
    "    print(\"3.delete by value\")\n",
    "    print(\"4.Exit\")\n",
    "    choice=input(\"Enter your choice:\")\n",
    "    if choice=='1':\n",
    "        data=int(input(\"Enter a value to insert:\"))\n",
    "        ll.iae(data)\n",
    "    elif choice=='2':\n",
    "        ll.display()\n",
    "    elif choice=='3':\n",
    "        key=int(input(\"Enter the value , you want to delete:\"))\n",
    "        ll.deletevalue(key)\n",
    "    elif choice=='4':\n",
    "        print(\"Exit\")\n",
    "        break\n",
    "    else:\n",
    "        print(\"Enter the valid choice(1/2/3):\")\n"
   ]
  },
  {
   "cell_type": "code",
   "execution_count": 7,
   "id": "9f75fc8a-faee-4434-abbe-e8f93f412a88",
   "metadata": {},
   "outputs": [
    {
     "name": "stdout",
     "output_type": "stream",
     "text": [
      "\n",
      " LinkedList-Insert at position...\n",
      "1.Insert\n",
      "2.Display\n",
      "3.delete by value\n",
      "4.Exit\n"
     ]
    },
    {
     "name": "stdin",
     "output_type": "stream",
     "text": [
      "Enter your choice: 1\n",
      "Enter a value to insert: 22\n"
     ]
    },
    {
     "name": "stdout",
     "output_type": "stream",
     "text": [
      "\n",
      " LinkedList-Insert at position...\n",
      "1.Insert\n",
      "2.Display\n",
      "3.delete by value\n",
      "4.Exit\n"
     ]
    },
    {
     "name": "stdin",
     "output_type": "stream",
     "text": [
      "Enter your choice: 1\n",
      "Enter a value to insert: 33\n"
     ]
    },
    {
     "name": "stdout",
     "output_type": "stream",
     "text": [
      "\n",
      " LinkedList-Insert at position...\n",
      "1.Insert\n",
      "2.Display\n",
      "3.delete by value\n",
      "4.Exit\n"
     ]
    },
    {
     "name": "stdin",
     "output_type": "stream",
     "text": [
      "Enter your choice: 1\n",
      "Enter a value to insert: 44\n"
     ]
    },
    {
     "name": "stdout",
     "output_type": "stream",
     "text": [
      "\n",
      " LinkedList-Insert at position...\n",
      "1.Insert\n",
      "2.Display\n",
      "3.delete by value\n",
      "4.Exit\n"
     ]
    },
    {
     "name": "stdin",
     "output_type": "stream",
     "text": [
      "Enter your choice: 2\n"
     ]
    },
    {
     "name": "stdout",
     "output_type": "stream",
     "text": [
      "22---33---44---None\n",
      "\n",
      " LinkedList-Insert at position...\n",
      "1.Insert\n",
      "2.Display\n",
      "3.delete by value\n",
      "4.Exit\n"
     ]
    },
    {
     "name": "stdin",
     "output_type": "stream",
     "text": [
      "Enter your choice: 33\n"
     ]
    },
    {
     "name": "stdout",
     "output_type": "stream",
     "text": [
      "Enter the valid choice(1/2/3):\n",
      "\n",
      " LinkedList-Insert at position...\n",
      "1.Insert\n",
      "2.Display\n",
      "3.delete by value\n",
      "4.Exit\n"
     ]
    },
    {
     "name": "stdin",
     "output_type": "stream",
     "text": [
      "Enter your choice: 2\n"
     ]
    },
    {
     "name": "stdout",
     "output_type": "stream",
     "text": [
      "22---33---44---None\n",
      "\n",
      " LinkedList-Insert at position...\n",
      "1.Insert\n",
      "2.Display\n",
      "3.delete by value\n",
      "4.Exit\n"
     ]
    },
    {
     "name": "stdin",
     "output_type": "stream",
     "text": [
      "Enter your choice: 3\n",
      "Enter the value , you want to delete: 33\n"
     ]
    },
    {
     "name": "stdout",
     "output_type": "stream",
     "text": [
      "Deleted node from begining: 22\n",
      "\n",
      " LinkedList-Insert at position...\n",
      "1.Insert\n",
      "2.Display\n",
      "3.delete by value\n",
      "4.Exit\n"
     ]
    },
    {
     "name": "stdin",
     "output_type": "stream",
     "text": [
      "Enter your choice: 2\n"
     ]
    },
    {
     "name": "stdout",
     "output_type": "stream",
     "text": [
      "33---44---None\n",
      "\n",
      " LinkedList-Insert at position...\n",
      "1.Insert\n",
      "2.Display\n",
      "3.delete by value\n",
      "4.Exit\n"
     ]
    },
    {
     "name": "stdin",
     "output_type": "stream",
     "text": [
      "Enter your choice: 4\n"
     ]
    },
    {
     "name": "stdout",
     "output_type": "stream",
     "text": [
      "Exit\n"
     ]
    }
   ],
   "source": [
    "\n",
    "class Node:\n",
    "    def __init__(self,data):\n",
    "        self.data=data\n",
    "        self.next=None\n",
    "class LinkedList:\n",
    "    def __init__(self):\n",
    "        self.head=None\n",
    "    def iae(self,data):\n",
    "        newnode=Node(data)\n",
    "        if not self.head:\n",
    "            self.head=newnode\n",
    "            return\n",
    "        current=self.head\n",
    "        while current.next:\n",
    "            current=current.next\n",
    "        current.next=newnode\n",
    "    def deletebegin(self):\n",
    "        if self.head is None:\n",
    "            print(\"Empty=LL\")\n",
    "        else:\n",
    "            print(\"Deleted node from begining:\", self.head.data)\n",
    "            self.head= self.head.next\n",
    "            \n",
    "       \n",
    "   \n",
    "    def display(self):\n",
    "        current=self.head\n",
    "        if not current:\n",
    "            print(\"LL-Empty\")\n",
    "            return\n",
    "        while current:\n",
    "            print(current.data, end=\"---\")\n",
    "            current=current.next\n",
    "        print(\"None\")\n",
    "ll=LinkedList()\n",
    "while True:\n",
    "    print(\"\\n LinkedList-Insert at position...\")\n",
    "    print(\"1.Insert\")\n",
    "    print(\"2.Display\")\n",
    "    print(\"3.delete by value\")\n",
    "    print(\"4.Exit\")\n",
    "    choice=input(\"Enter your choice:\")\n",
    "    if choice=='1':\n",
    "        data=int(input(\"Enter a value to insert:\"))\n",
    "        ll.iae(data)\n",
    "    elif choice=='2':\n",
    "        ll.display()\n",
    "    elif choice=='3':\n",
    "        key=int(input(\"Enter the value , you want to delete:\"))\n",
    "        ll.deletebegin()\n",
    "    elif choice=='4':\n",
    "        print(\"Exit\")\n",
    "        break\n",
    "    else:\n",
    "        print(\"Enter the valid choice(1/2/3):\")\n"
   ]
  },
  {
   "cell_type": "code",
   "execution_count": 14,
   "id": "038a9ccd-ca7c-4966-b8e4-e82dfbb4a4ed",
   "metadata": {},
   "outputs": [
    {
     "name": "stdout",
     "output_type": "stream",
     "text": [
      "\n",
      " LinkedList-Insert at position...\n",
      "1.Insert\n",
      "2.Display\n",
      "3.delete by value\n",
      "4.Exit\n"
     ]
    },
    {
     "name": "stdin",
     "output_type": "stream",
     "text": [
      "Enter your choice: 1\n",
      "Enter a value to insert: 44\n"
     ]
    },
    {
     "name": "stdout",
     "output_type": "stream",
     "text": [
      "\n",
      " LinkedList-Insert at position...\n",
      "1.Insert\n",
      "2.Display\n",
      "3.delete by value\n",
      "4.Exit\n"
     ]
    },
    {
     "name": "stdin",
     "output_type": "stream",
     "text": [
      "Enter your choice: 1\n",
      "Enter a value to insert: 77\n"
     ]
    },
    {
     "name": "stdout",
     "output_type": "stream",
     "text": [
      "\n",
      " LinkedList-Insert at position...\n",
      "1.Insert\n",
      "2.Display\n",
      "3.delete by value\n",
      "4.Exit\n"
     ]
    },
    {
     "name": "stdin",
     "output_type": "stream",
     "text": [
      "Enter your choice: 1\n",
      "Enter a value to insert: 88\n"
     ]
    },
    {
     "name": "stdout",
     "output_type": "stream",
     "text": [
      "\n",
      " LinkedList-Insert at position...\n",
      "1.Insert\n",
      "2.Display\n",
      "3.delete by value\n",
      "4.Exit\n"
     ]
    },
    {
     "name": "stdin",
     "output_type": "stream",
     "text": [
      "Enter your choice: 2\n"
     ]
    },
    {
     "name": "stdout",
     "output_type": "stream",
     "text": [
      "44---77---88---None\n",
      "\n",
      " LinkedList-Insert at position...\n",
      "1.Insert\n",
      "2.Display\n",
      "3.delete by value\n",
      "4.Exit\n"
     ]
    },
    {
     "name": "stdin",
     "output_type": "stream",
     "text": [
      "Enter your choice: 3\n"
     ]
    },
    {
     "name": "stdout",
     "output_type": "stream",
     "text": [
      "deleted last node:88\n",
      "\n",
      " LinkedList-Insert at position...\n",
      "1.Insert\n",
      "2.Display\n",
      "3.delete by value\n",
      "4.Exit\n"
     ]
    },
    {
     "name": "stdin",
     "output_type": "stream",
     "text": [
      "Enter your choice: 4\n"
     ]
    },
    {
     "name": "stdout",
     "output_type": "stream",
     "text": [
      "Exit\n"
     ]
    }
   ],
   "source": [
    "\n",
    "class Node:\n",
    "    def __init__(self,data):\n",
    "        self.data=data\n",
    "        self.next=None\n",
    "class LinkedList:\n",
    "    def __init__(self):\n",
    "        self.head=None\n",
    "    def iae(self,data):\n",
    "        newnode=Node(data)\n",
    "        if not self.head:\n",
    "            self.head=newnode\n",
    "            return\n",
    "        current=self.head\n",
    "        while current.next:\n",
    "            current=current.next\n",
    "        current.next=newnode\n",
    "    def deleteend(self):\n",
    "        if self.head is None:\n",
    "            print(\"Empty=LL\")\n",
    "            return\n",
    "        if self.head.next is None:\n",
    "            print(f\"Deleted last node:{self.head.data:}\")\n",
    "            self.head=None\n",
    "            return\n",
    "        current=self.head\n",
    "        while current.next.next:\n",
    "            current=current.next\n",
    "        print(f\"deleted last node:{current.next.data}\")\n",
    "        current.next=None\n",
    "    def display(self):\n",
    "        current=self.head\n",
    "        if not current:\n",
    "            print(\"LL-Empty\")\n",
    "            return\n",
    "        while current:\n",
    "            print(current.data, end=\"---\")\n",
    "            current=current.next\n",
    "        print(\"None\")\n",
    "ll=LinkedList()\n",
    "while True:\n",
    "    print(\"\\n LinkedList-Insert at position...\")\n",
    "    print(\"1.Insert\")\n",
    "    print(\"2.Display\")\n",
    "    print(\"3.delete by value\")\n",
    "    print(\"4.Exit\")\n",
    "    choice=input(\"Enter your choice:\")\n",
    "    if choice=='1':\n",
    "        data=int(input(\"Enter a value to insert:\"))\n",
    "        ll.iae(data)\n",
    "    elif choice=='2':\n",
    "        ll.display()\n",
    "    elif choice=='3':\n",
    "        ll.deleteend()\n",
    "    elif choice=='4':\n",
    "        print(\"Exit\")\n",
    "        break\n",
    "    else:\n",
    "        print(\"Enter the valid choice(1/2/3):\")\n"
   ]
  },
  {
   "cell_type": "code",
   "execution_count": null,
   "id": "b6eb3bc1-cbd5-48bf-8a04-aeb0095134e7",
   "metadata": {},
   "outputs": [],
   "source": []
  }
 ],
 "metadata": {
  "kernelspec": {
   "display_name": "Python 3 (ipykernel)",
   "language": "python",
   "name": "python3"
  },
  "language_info": {
   "codemirror_mode": {
    "name": "ipython",
    "version": 3
   },
   "file_extension": ".py",
   "mimetype": "text/x-python",
   "name": "python",
   "nbconvert_exporter": "python",
   "pygments_lexer": "ipython3",
   "version": "3.12.7"
  }
 },
 "nbformat": 4,
 "nbformat_minor": 5
}
