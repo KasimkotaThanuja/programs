{
 "cells": [
  {
   "cell_type": "code",
   "execution_count": 1,
   "id": "984d635e-d1a8-4f16-b448-866622db5d50",
   "metadata": {},
   "outputs": [
    {
     "ename": "ZeroDivisionError",
     "evalue": "division by zero",
     "output_type": "error",
     "traceback": [
      "\u001b[1;31m---------------------------------------------------------------------------\u001b[0m",
      "\u001b[1;31mZeroDivisionError\u001b[0m                         Traceback (most recent call last)",
      "Cell \u001b[1;32mIn[1], line 3\u001b[0m\n\u001b[0;32m      1\u001b[0m \u001b[38;5;124;03m'''errors-logical errors / syntax\u001b[39;00m\n\u001b[0;32m      2\u001b[0m \u001b[38;5;124;03mexceptions -sync async'''\u001b[39;00m \n\u001b[1;32m----> 3\u001b[0m \u001b[38;5;28mprint\u001b[39m(\u001b[38;5;241m11\u001b[39m\u001b[38;5;241m/\u001b[39m\u001b[38;5;241m0\u001b[39m)\n",
      "\u001b[1;31mZeroDivisionError\u001b[0m: division by zero"
     ]
    }
   ],
   "source": [
    "'''errors-logical errors / syntax\n",
    "exceptions -sync async''' \n",
    "print(11/0)\n"
   ]
  },
  {
   "cell_type": "code",
   "execution_count": 3,
   "id": "877b81f1-86d7-4002-83b9-cbf30f6d13df",
   "metadata": {},
   "outputs": [
    {
     "ename": "TypeError",
     "evalue": "can only concatenate str (not \"int\") to str",
     "output_type": "error",
     "traceback": [
      "\u001b[1;31m---------------------------------------------------------------------------\u001b[0m",
      "\u001b[1;31mTypeError\u001b[0m                                 Traceback (most recent call last)",
      "Cell \u001b[1;32mIn[3], line 1\u001b[0m\n\u001b[1;32m----> 1\u001b[0m \u001b[38;5;28mprint\u001b[39m(\u001b[38;5;124m'\u001b[39m\u001b[38;5;124m11\u001b[39m\u001b[38;5;124m'\u001b[39m\u001b[38;5;241m+\u001b[39m\u001b[38;5;241m0\u001b[39m)\n",
      "\u001b[1;31mTypeError\u001b[0m: can only concatenate str (not \"int\") to str"
     ]
    }
   ],
   "source": [
    "print('11'+0)"
   ]
  },
  {
   "cell_type": "code",
   "execution_count": null,
   "id": "886ddc8d-42f8-42d8-aad3-e2657bf04eae",
   "metadata": {},
   "outputs": [],
   "source": [
    "'''1.Exception - for all base classes\n",
    "2.Arthemetic Error- math errors\n",
    "3.ZeroDevisionError -4/0\n",
    "4.StopIteration=next method or iterator not available/condition not available\n",
    "5.SystemExit-current os exit\n",
    "6.StandardError=pre defined keywords\n",
    "7.EOFError=i/o till the endoffile\n",
    "8.ImportError= file existing errors \n",
    "9.KetboardInterrupt= execution interrupt\n",
    "10.NameError=\n",
    "11.ValueError=\n",
    "12.IndexError=\n",
    "13.TypeError=\n",
    "14.IOEError=\n",
    "15.SyntaxError=\n",
    "16.RuntimeError=\n",
    "17.IndentationError=\n",
    "18.AttributeError=\n",
    "19.AssertionError=\n",
    "20.'''\n",
    "''''try:\n",
    "    -------\n",
    "    -------\n",
    "except ------:'''"
   ]
  },
  {
   "cell_type": "code",
   "execution_count": 5,
   "id": "3165228d-d145-41b6-b6e9-979feced2d88",
   "metadata": {},
   "outputs": [
    {
     "name": "stdin",
     "output_type": "stream",
     "text": [
      "enetr numerator: 11\n",
      "enter denominator: 0\n"
     ]
    },
    {
     "name": "stdout",
     "output_type": "stream",
     "text": [
      "Cannot divide by zero\n"
     ]
    }
   ],
   "source": [
    "try:\n",
    "    num1= int(input(\"enetr numerator:\"))\n",
    "    num2= int(input(\"enter denominator:\"))\n",
    "    output= num1/num2\n",
    "    print(\"result:\", output)\n",
    "except ZeroDivisionError:\n",
    "    print(\"Cannot divide by zero\")"
   ]
  },
  {
   "cell_type": "code",
   "execution_count": 15,
   "id": "04bcce0a-24e2-4ab5-b63a-7dc964fcb902",
   "metadata": {},
   "outputs": [
    {
     "name": "stdin",
     "output_type": "stream",
     "text": [
      "enetr the file name: file1.txt\n"
     ]
    },
    {
     "name": "stdout",
     "output_type": "stream",
     "text": [
      "file does not have integer\n"
     ]
    }
   ],
   "source": [
    "try:\n",
    "    filename= input(\"enetr the file name:\")\n",
    "    file=open(filename, 'r')\n",
    "    number= int(file.readline())\n",
    "    print(\"Number from a file\", number)\n",
    "    file.close()\n",
    "except FileNotFoundError:\n",
    "    print(\"file does not exist..\")\n",
    "except ValueError:\n",
    "    print(\"file does not have integer\")\n",
    "\n",
    "except:\n",
    "    print(\"unknown error\")"
   ]
  },
  {
   "cell_type": "code",
   "execution_count": 17,
   "id": "385d3d3c-53e1-4dca-93e0-2f268e5b638f",
   "metadata": {},
   "outputs": [
    {
     "name": "stdin",
     "output_type": "stream",
     "text": [
      "enter a number: 27\n"
     ]
    },
    {
     "name": "stdout",
     "output_type": "stream",
     "text": [
      "19683\n",
      "Program Terminated...\n"
     ]
    }
   ],
   "source": [
    "try:\n",
    "    num=int(input(\"enter a number:\"))\n",
    "    print(num**3)\n",
    "except(KeyboardInterrupt, ValueError, TypeError):\n",
    "    print(\"please check before executing...\")\n",
    "print(\"Program Terminated...\")"
   ]
  },
  {
   "cell_type": "code",
   "execution_count": 19,
   "id": "90156fd4-6f42-4f23-a710-6b0ae1c6052e",
   "metadata": {},
   "outputs": [
    {
     "name": "stdin",
     "output_type": "stream",
     "text": [
      "enter a number: 12\n"
     ]
    },
    {
     "name": "stdout",
     "output_type": "stream",
     "text": [
      "Square Root: 3.4641\n"
     ]
    }
   ],
   "source": [
    "import math\n",
    "try:\n",
    "    num= int(input(\"enter a number:\"))\n",
    "    if num<0:\n",
    "        raise ValueError(\"Negative Number..\")\n",
    "except ValueError:\n",
    "    print(\"enter positive number only..\")\n",
    "else:\n",
    "    print(\"Square Root:\",round(math.sqrt(num),4))\n",
    "    "
   ]
  },
  {
   "cell_type": "code",
   "execution_count": 23,
   "id": "c11db158-208b-4d9a-a3df-272752cbb50f",
   "metadata": {},
   "outputs": [
    {
     "name": "stdin",
     "output_type": "stream",
     "text": [
      "enter a number: -1\n"
     ]
    },
    {
     "name": "stdout",
     "output_type": "stream",
     "text": [
      "-1\n",
      "exception raised intensionally even no use..\n"
     ]
    }
   ],
   "source": [
    "import math\n",
    "try:\n",
    "    num= int(input(\"enter a number:\"))\n",
    "    print(num)\n",
    "    raise Valueerror\n",
    "except:\n",
    "    print(\"exception raised intensionally even no use..\")"
   ]
  },
  {
   "cell_type": "code",
   "execution_count": 35,
   "id": "07406928-a476-497c-bd00-a978a7efa5f1",
   "metadata": {},
   "outputs": [
    {
     "name": "stdin",
     "output_type": "stream",
     "text": [
      "enter numerator: 22\n",
      "enter denominator: 0\n"
     ]
    }
   ],
   "source": [
    "import datetime\n",
    "try:\n",
    "    x=int(input(\"enter numerator:\"))\n",
    "    y=int(input(\"enter denominator:\"))\n",
    "    print(\"result:\", x/y)\n",
    "except (ZeroDivisionError, ValueError, TypeError,NameError) as e:\n",
    "    ct= datetime.datetime.now().strftime(\"%Y-%m-%d %H:%M:%S\")\n",
    "    txt= f\"[{ct} Error: {str(e)}]  \\n\"\n",
    "    with open(\"data.txt\", 'a') as file:\n",
    "        file.write(txt)\n",
    "        \n",
    "        \n",
    "                "
   ]
  },
  {
   "cell_type": "code",
   "execution_count": null,
   "id": "b940aacd-1c96-4647-a113-dd90fa856abb",
   "metadata": {},
   "outputs": [],
   "source": []
  }
 ],
 "metadata": {
  "kernelspec": {
   "display_name": "Python 3 (ipykernel)",
   "language": "python",
   "name": "python3"
  },
  "language_info": {
   "codemirror_mode": {
    "name": "ipython",
    "version": 3
   },
   "file_extension": ".py",
   "mimetype": "text/x-python",
   "name": "python",
   "nbconvert_exporter": "python",
   "pygments_lexer": "ipython3",
   "version": "3.12.7"
  }
 },
 "nbformat": 4,
 "nbformat_minor": 5
}
