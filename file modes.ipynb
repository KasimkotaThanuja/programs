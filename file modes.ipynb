{
 "cells": [
  {
   "cell_type": "code",
   "execution_count": 7,
   "id": "fc2cd2bc-76d2-44a0-a503-46aff02f4b58",
   "metadata": {},
   "outputs": [
    {
     "name": "stdout",
     "output_type": "stream",
     "text": [
      "hello!good morning\n",
      "go school...\n"
     ]
    }
   ],
   "source": [
    "file= open(\"sample.txt\", \"r\")\n",
    "data= file.read()\n",
    "print(data)\n",
    "file.close()"
   ]
  },
  {
   "cell_type": "code",
   "execution_count": 9,
   "id": "fb83e39b-9dad-43b8-a9b7-0e0255d58aca",
   "metadata": {},
   "outputs": [
    {
     "name": "stdout",
     "output_type": "stream",
     "text": [
      "hello!good morning\n",
      "\n"
     ]
    }
   ],
   "source": [
    "file= open(\"sample.txt\", \"r\")\n",
    "data= file.readline()\n",
    "print(data)\n",
    "file.close()"
   ]
  },
  {
   "cell_type": "code",
   "execution_count": 19,
   "id": "aef64b49-5343-4f33-b0c3-b23dbdec144b",
   "metadata": {},
   "outputs": [],
   "source": [
    "#reading the file whgich has existed -r\n",
    "#writing data in file-w\n",
    "file=open(\"test.txt\",\"w\")\n",
    "file.write(\"My name is chutki...I love panipuri\")\n",
    "file.close()"
   ]
  },
  {
   "cell_type": "code",
   "execution_count": 21,
   "id": "a2beac55-43ed-4f0b-aeec-e04b4faf8326",
   "metadata": {},
   "outputs": [],
   "source": [
    "file=open(\"test.txt\",\"a\")\n",
    "file.write(\"My fav food\")\n",
    "file.close()"
   ]
  },
  {
   "cell_type": "code",
   "execution_count": 17,
   "id": "aacdbc48-c5dc-44a0-988d-c4030107027c",
   "metadata": {},
   "outputs": [
    {
     "name": "stdout",
     "output_type": "stream",
     "text": [
      "b'hello!good morning\\n'\n"
     ]
    }
   ],
   "source": [
    "file= open(\"sample.txt\", \"rb\")\n",
    "data= file.readline()\n",
    "print(data)\n",
    "file.close()"
   ]
  },
  {
   "cell_type": "code",
   "execution_count": 31,
   "id": "82e58e41-c3e3-4226-b6f1-dbad59099034",
   "metadata": {},
   "outputs": [],
   "source": [
    "file= open(\"sample_binary.bin\", \"wb\")\n",
    "file.write(b' \\x48\\x65\\x6c')\n",
    "file.close()"
   ]
  },
  {
   "cell_type": "code",
   "execution_count": null,
   "id": "0bc7fc68-977f-4534-8e66-27ede6a6d623",
   "metadata": {},
   "outputs": [],
   "source": [
    "#fileno(0-file number\n",
    "#flush()-file stream refresh\n",
    "readline/readlines\n",
    "truncate()-slice off\n",
    "rstrip()-only removes left spacing\n",
    "strip()-remove indentation\n",
    "file= open(\"sample.txt\",\"r\")\n",
    "for line in file:\n",
    "    print(line.strip())\n",
    "data=file.read()\n",
    "print(data)\n",
    "file.close()"
   ]
  },
  {
   "cell_type": "code",
   "execution_count": 33,
   "id": "b2d2359a-28d6-4f67-b638-164f8d38f7c7",
   "metadata": {},
   "outputs": [
    {
     "name": "stdin",
     "output_type": "stream",
     "text": [
      "enter the filename: sample_binary.bin\n",
      "enter a char: l\n"
     ]
    },
    {
     "name": "stdout",
     "output_type": "stream",
     "text": [
      "l appears 1 times in the file\n"
     ]
    }
   ],
   "source": [
    "'''program that accept filename as an input from the user\n",
    "open the file and copunt the number of times a character appers in the file'''\n",
    "filename=input(\"enter the filename:\")\n",
    "with open(filename) as file:\n",
    "    text=file.read()\n",
    "    letter=input(\"enter a char:\")\n",
    "    c=0\n",
    "    for char in text:\n",
    "        if char==letter:\n",
    "            c+=1\n",
    "print(letter,\"appears\",c, \"times in the file\")"
   ]
  },
  {
   "cell_type": "code",
   "execution_count": 35,
   "id": "27cae0ca-4ca0-45e8-9581-71f42c6d9f1c",
   "metadata": {},
   "outputs": [
    {
     "name": "stdout",
     "output_type": "stream",
     "text": [
      "successfully renamed...\n"
     ]
    }
   ],
   "source": [
    "#rename and deleting a file\n",
    "import os\n",
    "os.rename(\"sample.txt\", \"vijay.txt\")\n",
    "print(\"successfully renamed...\")"
   ]
  },
  {
   "cell_type": "code",
   "execution_count": 37,
   "id": "a296ee2d-9150-442c-b652-9372417dbf65",
   "metadata": {},
   "outputs": [
    {
     "name": "stdout",
     "output_type": "stream",
     "text": [
      "successful.....gone to dogs\n"
     ]
    }
   ],
   "source": [
    "import os\n",
    "os.remove(\"test.txt\")\n",
    "print(\"successful.....gone to dogs\")"
   ]
  },
  {
   "cell_type": "code",
   "execution_count": null,
   "id": "26aeb304-acb1-4f21-9b76-1c5540a4f13e",
   "metadata": {},
   "outputs": [],
   "source": []
  }
 ],
 "metadata": {
  "kernelspec": {
   "display_name": "Python 3 (ipykernel)",
   "language": "python",
   "name": "python3"
  },
  "language_info": {
   "codemirror_mode": {
    "name": "ipython",
    "version": 3
   },
   "file_extension": ".py",
   "mimetype": "text/x-python",
   "name": "python",
   "nbconvert_exporter": "python",
   "pygments_lexer": "ipython3",
   "version": "3.12.7"
  }
 },
 "nbformat": 4,
 "nbformat_minor": 5
}
