{
 "cells": [
  {
   "cell_type": "code",
   "execution_count": 1,
   "id": "855099a2-30c6-49b6-8eb9-ddd00342d89c",
   "metadata": {},
   "outputs": [
    {
     "name": "stdout",
     "output_type": "stream",
     "text": [
      "Previous: Thanuja Revathi\n",
      "Latest Kothakota Revathi\n"
     ]
    }
   ],
   "source": [
    "with open (\"file1.txt\",\"w\") as f:\n",
    "    f.write(\"Thanuja Revathi\")\n",
    "with open (\"file1.txt\",\"r+\") as f:\n",
    "    data=f.read()\n",
    "    print(\"Previous:\",data)\n",
    "    new_data=data.replace(\"Thanuja\",\"Kothakota\")\n",
    "    f.seek(0)\n",
    "    f.write(new_data)\n",
    "    f.truncate()\n",
    "with open(\"file1.txt\",\"r\") as f:\n",
    "    print(\"Latest\",f.read())"
   ]
  },
  {
   "cell_type": "code",
   "execution_count": 9,
   "id": "0ffbb084-46d8-49bd-9423-d54ff27d2a8b",
   "metadata": {},
   "outputs": [
    {
     "name": "stdout",
     "output_type": "stream",
     "text": [
      "previous: hello students!!!\n",
      "latest: hello future it employees\n"
     ]
    }
   ],
   "source": [
    "with open(\"file1.txt\", 'w+') as f:\n",
    "    f.write(\"hello students!!!\")\n",
    "    f.seek(0)\n",
    "    data= f.read()\n",
    "    print(\"previous:\", data)\n",
    "    new_data=data.replace(\"students!!!\", \"future it employees\")\n",
    "    f.seek(0)\n",
    "    f.write(new_data)\n",
    "    f.truncate()\n",
    "with open(\"file1.txt\", 'r') as f:\n",
    "    print(\"latest:\", f.read())"
   ]
  },
  {
   "cell_type": "code",
   "execution_count": 21,
   "id": "361bd8a9-c219-4683-93d0-7903f6b757cf",
   "metadata": {},
   "outputs": [
    {
     "name": "stdout",
     "output_type": "stream",
     "text": [
      "current data:\n",
      " latest line appended now...latest line appended now...latest line appended now...oneoneoneoneoneoneone\n",
      "  two\n",
      "  three\n",
      "  four\n",
      "  five\n"
     ]
    }
   ],
   "source": [
    "with open(\"log1.txt\", 'a+') as f:\n",
    "    f.write(\"\\n  five\")\n",
    "    f.seek(0)\n",
    "    data=f.read()\n",
    "    print(\"current data:\\n\",data)"
   ]
  },
  {
   "cell_type": "code",
   "execution_count": 23,
   "id": "f7460f2e-d80f-4504-b4ba-13bd2fbf635d",
   "metadata": {},
   "outputs": [
    {
     "name": "stdin",
     "output_type": "stream",
     "text": [
      "enter exact line: 3\n"
     ]
    }
   ],
   "source": [
    "\n",
    "ldel=input(\"enter exact line:\")\n",
    "with open(\"log1.txt\", 'r')as f:\n",
    "    lines= f.readlines()\n",
    "with open('log1.txt', 'w') as f:\n",
    "    for line in lines:\n",
    "        if line.strip() !=ldel.strip():\n",
    "           f.write(line)\n",
    "    "
   ]
  },
  {
   "cell_type": "code",
   "execution_count": 31,
   "id": "97660cb5-dbe8-410f-964b-8d24bf1b1bf4",
   "metadata": {},
   "outputs": [],
   "source": [
    "#data comprative deletion\n",
    "with open(\"log1.txt\", 'r')as f:\n",
    "    lines= f.readlines()\n",
    "with open('log1.txt', 'w') as f:\n",
    "    for line in lines:\n",
    "        if line.strip() !='three':\n",
    "            f.write(line)"
   ]
  },
  {
   "cell_type": "code",
   "execution_count": 33,
   "id": "3418e637-4e6d-4e85-aec3-a1118f35da1d",
   "metadata": {},
   "outputs": [
    {
     "name": "stdout",
     "output_type": "stream",
     "text": [
      "3\n"
     ]
    }
   ],
   "source": [
    "f=open(\"file1.txt\",'w')\n",
    "print(f.fileno())\n",
    "f.flush()\n"
   ]
  },
  {
   "cell_type": "code",
   "execution_count": 35,
   "id": "b1099b1d-1f88-4b22-9650-c087c30d8a3e",
   "metadata": {},
   "outputs": [
    {
     "name": "stdout",
     "output_type": "stream",
     "text": [
      "False\n"
     ]
    }
   ],
   "source": [
    "f=open(\"log.txt\", 'w')\n",
    "f.write(\"hello\")\n",
    "print(f.isatty())\n"
   ]
  },
  {
   "cell_type": "code",
   "execution_count": 37,
   "id": "728785a2-0105-41c5-8c00-54d64132d7af",
   "metadata": {},
   "outputs": [
    {
     "name": "stdout",
     "output_type": "stream",
     "text": [
      "python version: 3.12.7 | packaged by Anaconda, Inc. | (main, Oct  4 2024, 13:17:27) [MSC v.1929 64 bit (AMD64)]\n"
     ]
    }
   ],
   "source": [
    "import sys\n",
    "print(\"python version:\", sys.version)"
   ]
  },
  {
   "cell_type": "code",
   "execution_count": 39,
   "id": "cfec4d82-3447-45e1-b099-6b7889c9631f",
   "metadata": {},
   "outputs": [
    {
     "name": "stdin",
     "output_type": "stream",
     "text": [
      "enter age: 12\n"
     ]
    },
    {
     "name": "stdout",
     "output_type": "stream",
     "text": [
      "not eligible to drive...\n"
     ]
    },
    {
     "ename": "SystemExit",
     "evalue": "",
     "output_type": "error",
     "traceback": [
      "An exception has occurred, use %tb to see the full traceback.\n",
      "\u001b[1;31mSystemExit\u001b[0m\n"
     ]
    },
    {
     "name": "stderr",
     "output_type": "stream",
     "text": [
      "C:\\ProgramData\\anaconda3\\Lib\\site-packages\\IPython\\core\\interactiveshell.py:3585: UserWarning: To exit: use 'exit', 'quit', or Ctrl-D.\n",
      "  warn(\"To exit: use 'exit', 'quit', or Ctrl-D.\", stacklevel=1)\n"
     ]
    }
   ],
   "source": [
    "import sys \n",
    "age= int(input(\"enter age:\"))\n",
    "if age<18:\n",
    "    print(\"not eligible to drive...\")\n",
    "    sys.exit()\n",
    "print(\"you are eligible....\")\n",
    "               "
   ]
  },
  {
   "cell_type": "code",
   "execution_count": 41,
   "id": "eb879d5d-d8b1-4ff5-90b5-474fdd30d53f",
   "metadata": {},
   "outputs": [
    {
     "name": "stdout",
     "output_type": "stream",
     "text": [
      "platform : win32\n"
     ]
    }
   ],
   "source": [
    "import sys\n",
    "print(\"platform :\",sys.platform)"
   ]
  },
  {
   "cell_type": "code",
   "execution_count": null,
   "id": "7f4eb486-bb72-4015-b4f5-e61e1115aff0",
   "metadata": {},
   "outputs": [],
   "source": []
  }
 ],
 "metadata": {
  "kernelspec": {
   "display_name": "Python 3 (ipykernel)",
   "language": "python",
   "name": "python3"
  },
  "language_info": {
   "codemirror_mode": {
    "name": "ipython",
    "version": 3
   },
   "file_extension": ".py",
   "mimetype": "text/x-python",
   "name": "python",
   "nbconvert_exporter": "python",
   "pygments_lexer": "ipython3",
   "version": "3.12.7"
  }
 },
 "nbformat": 4,
 "nbformat_minor": 5
}
