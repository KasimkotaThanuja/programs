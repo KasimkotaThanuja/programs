{
 "cells": [
  {
   "cell_type": "code",
   "execution_count": null,
   "id": "698757fc-b3a2-4bb9-bed5-e59d6f3f5663",
   "metadata": {},
   "outputs": [],
   "source": [
    "''' linked lists: non contagious ds \n",
    "memory allocate\n",
    "access\n",
    "2 4 6 8 7 5 3 \n",
    "1.single LL\n",
    "2.double LL\n",
    "\n",
    "sll\n",
    "head----> node1---> node2----> trail/null\n",
    "\n",
    "class node:\n",
    "        def __init__(self,data):\n",
    "                self.data=data\n",
    "                self.next=none\n",
    "\n",
    "\n",
    "insertion \n",
    "1. At begin\n",
    "2. At end\n",
    "3. At location"
   ]
  },
  {
   "cell_type": "code",
   "execution_count": 1,
   "id": "a7a2f8d1-84ff-4f59-9d91-720c317d51bc",
   "metadata": {},
   "outputs": [
    {
     "name": "stdout",
     "output_type": "stream",
     "text": [
      "\n",
      " LinkedList- Insert At Begin...\n",
      "1. insert\n",
      "2. display\n",
      "3.exit\n"
     ]
    },
    {
     "name": "stdin",
     "output_type": "stream",
     "text": [
      "enter your choice: 1\n",
      " enter a value to insert: 30\n"
     ]
    },
    {
     "name": "stdout",
     "output_type": "stream",
     "text": [
      "(data) inserted at begining\n",
      "\n",
      " LinkedList- Insert At Begin...\n",
      "1. insert\n",
      "2. display\n",
      "3.exit\n"
     ]
    },
    {
     "name": "stdin",
     "output_type": "stream",
     "text": [
      "enter your choice: 1\n",
      " enter a value to insert: 20\n"
     ]
    },
    {
     "name": "stdout",
     "output_type": "stream",
     "text": [
      "(data) inserted at begining\n",
      "\n",
      " LinkedList- Insert At Begin...\n",
      "1. insert\n",
      "2. display\n",
      "3.exit\n"
     ]
    },
    {
     "name": "stdin",
     "output_type": "stream",
     "text": [
      "enter your choice: 10\n"
     ]
    },
    {
     "name": "stdout",
     "output_type": "stream",
     "text": [
      "enter only..(1/2/3)\n",
      "\n",
      " LinkedList- Insert At Begin...\n",
      "1. insert\n",
      "2. display\n",
      "3.exit\n"
     ]
    },
    {
     "name": "stdin",
     "output_type": "stream",
     "text": [
      "enter your choice: 5\n"
     ]
    },
    {
     "name": "stdout",
     "output_type": "stream",
     "text": [
      "enter only..(1/2/3)\n",
      "\n",
      " LinkedList- Insert At Begin...\n",
      "1. insert\n",
      "2. display\n",
      "3.exit\n"
     ]
    },
    {
     "name": "stdin",
     "output_type": "stream",
     "text": [
      "enter your choice: 2\n"
     ]
    },
    {
     "name": "stdout",
     "output_type": "stream",
     "text": [
      "20---30---None\n",
      "\n",
      " LinkedList- Insert At Begin...\n",
      "1. insert\n",
      "2. display\n",
      "3.exit\n"
     ]
    },
    {
     "name": "stdin",
     "output_type": "stream",
     "text": [
      "enter your choice: 3\n"
     ]
    },
    {
     "name": "stdout",
     "output_type": "stream",
     "text": [
      "exit the operation..\n"
     ]
    }
   ],
   "source": [
    "class Node:\n",
    "    def __init__ (self,data):\n",
    "         self.data=data\n",
    "         self.next=None\n",
    "class LinkedList:\n",
    "    def __init__(self):\n",
    "        self.head=None\n",
    "    def iab(self, data):\n",
    "        newnode=Node(data)\n",
    "        newnode.next=self.head\n",
    "        self.head=newnode\n",
    "        print(f\"(data) inserted at begining\")\n",
    "    def display(self):\n",
    "        current = self.head\n",
    "        if not current:\n",
    "            print(\"LL-Empty\")\n",
    "            return\n",
    "        while current:\n",
    "            print(current.data, end='---')\n",
    "            current=current.next\n",
    "        print(\"None\")\n",
    "        \n",
    "\n",
    "ll= LinkedList()\n",
    "while True:\n",
    "    print(\"\\n LinkedList- Insert At Begin...\")\n",
    "    print(\"1. insert\")\n",
    "    print(\"2. display\")\n",
    "    print(\"3.exit\")\n",
    "    choice=input(\"enter your choice:\")\n",
    "    if choice=='1':\n",
    "        data= int(input(\" enter a value to insert:\"))\n",
    "        ll.iab(data)\n",
    "    elif choice=='2':\n",
    "        ll.display()\n",
    "    elif choice=='3':\n",
    "        print(\"exit the operation..\")\n",
    "        break\n",
    "        \n",
    "    else:\n",
    "        print(\"enter only..(1/2/3)\")\n",
    "    "
   ]
  },
  {
   "cell_type": "code",
   "execution_count": 14,
   "id": "5c9a2c0e-12e7-48f7-9ffe-f7aeedd50ca1",
   "metadata": {},
   "outputs": [
    {
     "name": "stdout",
     "output_type": "stream",
     "text": [
      "\n",
      " LinkedList- Insert At Begin...\n",
      "1. insert\n",
      "2. display\n",
      "3.exit\n"
     ]
    },
    {
     "name": "stdin",
     "output_type": "stream",
     "text": [
      "enter your choice: 1\n",
      " enter a value to insert: 22\n"
     ]
    },
    {
     "name": "stdout",
     "output_type": "stream",
     "text": [
      "22 inserted at end / will be first node\n",
      "\n",
      " LinkedList- Insert At Begin...\n",
      "1. insert\n",
      "2. display\n",
      "3.exit\n"
     ]
    },
    {
     "name": "stdin",
     "output_type": "stream",
     "text": [
      "enter your choice: 1\n",
      " enter a value to insert: 33\n"
     ]
    },
    {
     "name": "stdout",
     "output_type": "stream",
     "text": [
      "33 inserted last\n",
      "\n",
      " LinkedList- Insert At Begin...\n",
      "1. insert\n",
      "2. display\n",
      "3.exit\n"
     ]
    },
    {
     "name": "stdin",
     "output_type": "stream",
     "text": [
      "enter your choice: 1\n",
      " enter a value to insert: 44\n"
     ]
    },
    {
     "name": "stdout",
     "output_type": "stream",
     "text": [
      "44 inserted last\n",
      "\n",
      " LinkedList- Insert At Begin...\n",
      "1. insert\n",
      "2. display\n",
      "3.exit\n"
     ]
    },
    {
     "name": "stdin",
     "output_type": "stream",
     "text": [
      "enter your choice: 2\n"
     ]
    },
    {
     "name": "stdout",
     "output_type": "stream",
     "text": [
      "22---33---44---None\n",
      "\n",
      " LinkedList- Insert At Begin...\n",
      "1. insert\n",
      "2. display\n",
      "3.exit\n"
     ]
    },
    {
     "name": "stdin",
     "output_type": "stream",
     "text": [
      "enter your choice: 3\n"
     ]
    },
    {
     "name": "stdout",
     "output_type": "stream",
     "text": [
      "exit the operation..\n"
     ]
    }
   ],
   "source": [
    "class Node:\n",
    "    def __init__ (self,data):\n",
    "         self.data=data\n",
    "         self.next=None\n",
    "class LinkedList:\n",
    "    def __init__(self):\n",
    "        self.head=None\n",
    "    def iae(self, data):\n",
    "        newnode=Node(data)\n",
    "        if self.head is None:\n",
    "            self.head=newnode\n",
    "            print(f\"{data} inserted at end / will be first node\")\n",
    "            return\n",
    "        current=self.head\n",
    "        while current.next:\n",
    "            current=current.next\n",
    "        current.next=newnode\n",
    "        print(f\"{data} inserted last\")\n",
    "       \n",
    "    def display(self):\n",
    "        current = self.head\n",
    "        if not current:\n",
    "            print(\"LL-Empty\")\n",
    "            return\n",
    "        while current:\n",
    "            print(current.data, end='---')\n",
    "            current=current.next\n",
    "        print(\"None\")\n",
    "        \n",
    "\n",
    "ll= LinkedList()\n",
    "while True:\n",
    "    print(\"\\n LinkedList- Insert At Begin...\")\n",
    "    print(\"1. insert\")\n",
    "    print(\"2. display\")\n",
    "    print(\"3.exit\")\n",
    "    choice=input(\"enter your choice:\")\n",
    "    if choice=='1':\n",
    "        data= int(input(\" enter a value to insert:\"))\n",
    "        ll.iae(data)\n",
    "    elif choice=='2':\n",
    "        ll.display()\n",
    "    elif choice=='3':\n",
    "        print(\"exit the operation..\")\n",
    "        break\n",
    "        \n",
    "    else:\n",
    "        print(\"enter only..(1/2/3)\")"
   ]
  },
  {
   "cell_type": "code",
   "execution_count": 16,
   "id": "1c938efd-74d2-4a00-9aed-5605f2fccee0",
   "metadata": {},
   "outputs": [
    {
     "name": "stdout",
     "output_type": "stream",
     "text": [
      "\n",
      " LinkedList-Insert at position...\n",
      "1.Insert\n",
      "2.Display\n",
      "3.Exit\n"
     ]
    },
    {
     "name": "stdin",
     "output_type": "stream",
     "text": [
      "Enter your choice: 1\n",
      "Enter a value to inert: 3\n",
      "enter positon: 1\n"
     ]
    },
    {
     "name": "stdout",
     "output_type": "stream",
     "text": [
      "3 inserted at pos-1\n",
      "\n",
      " LinkedList-Insert at position...\n",
      "1.Insert\n",
      "2.Display\n",
      "3.Exit\n"
     ]
    },
    {
     "name": "stdin",
     "output_type": "stream",
     "text": [
      "Enter your choice: 1\n",
      "Enter a value to inert: 66\n",
      "enter positon: 2\n"
     ]
    },
    {
     "name": "stdout",
     "output_type": "stream",
     "text": [
      "66 inserted at position 2\n",
      "\n",
      " LinkedList-Insert at position...\n",
      "1.Insert\n",
      "2.Display\n",
      "3.Exit\n"
     ]
    },
    {
     "name": "stdin",
     "output_type": "stream",
     "text": [
      "Enter your choice: 1\n",
      "Enter a value to inert: 33\n",
      "enter positon: 2\n"
     ]
    },
    {
     "name": "stdout",
     "output_type": "stream",
     "text": [
      "33 inserted at position 2\n",
      "\n",
      " LinkedList-Insert at position...\n",
      "1.Insert\n",
      "2.Display\n",
      "3.Exit\n"
     ]
    },
    {
     "name": "stdin",
     "output_type": "stream",
     "text": [
      "Enter your choice: 2\n"
     ]
    },
    {
     "name": "stdout",
     "output_type": "stream",
     "text": [
      "3---33---66---None\n",
      "\n",
      " LinkedList-Insert at position...\n",
      "1.Insert\n",
      "2.Display\n",
      "3.Exit\n"
     ]
    },
    {
     "name": "stdin",
     "output_type": "stream",
     "text": [
      "Enter your choice: 3\n"
     ]
    },
    {
     "name": "stdout",
     "output_type": "stream",
     "text": [
      "Exit\n"
     ]
    }
   ],
   "source": [
    "class Node:\n",
    "    def __init__(self,data):\n",
    "        self.data=data\n",
    "        self.next=None\n",
    "class LinkedList:\n",
    "    def __init__(self):\n",
    "        self.head=None\n",
    "    def iap(self,data,pos):\n",
    "        newnode=Node(data)\n",
    "        if pos<=0:\n",
    "            print(\"Position min>=1\")\n",
    "            return\n",
    "        if pos==1: #begin start\n",
    "            newnode.next=self.head\n",
    "            self.head=newnode\n",
    "            print(f\"{data} inserted at pos-1\")\n",
    "            return\n",
    "        current=self.head\n",
    "        c=1\n",
    "        while current and c<pos-1:\n",
    "            current=current.next\n",
    "            c+=1\n",
    "        if not current:\n",
    "            print(\"Not in range\")\n",
    "            return\n",
    "        newnode.next=current.next\n",
    "        current.next=newnode\n",
    "        print(f\"{data} inserted at position {pos}\")\n",
    "    def display(self):\n",
    "        current=self.head\n",
    "        if not current:\n",
    "            print(\"LL-Empty\")\n",
    "            return\n",
    "        while current:\n",
    "            print(current.data, end=\"---\")\n",
    "            current=current.next\n",
    "        print(\"None\")   \n",
    "ll=LinkedList()\n",
    "while True:\n",
    "    print(\"\\n LinkedList-Insert at position...\")\n",
    "    print(\"1.Insert\")\n",
    "    print(\"2.Display\")\n",
    "    print(\"3.Exit\")\n",
    "    choice=input(\"Enter your choice:\")\n",
    "    if choice=='1':\n",
    "        data=int(input(\"Enter a value to inert:\"))\n",
    "        pos=int(input(\"enter positon:\"))\n",
    "        ll.iap(data,pos)\n",
    "    elif choice=='2':\n",
    "        ll.display()\n",
    "    elif choice=='3':\n",
    "        print(\"Exit\")\n",
    "        break\n",
    "    else:\n",
    "        print(\"Enter the valid choice(1/2/3):\")\n"
   ]
  },
  {
   "cell_type": "code",
   "execution_count": 20,
   "id": "03c47617-1c05-4b42-9888-c4b8809d3ed6",
   "metadata": {},
   "outputs": [
    {
     "name": "stdout",
     "output_type": "stream",
     "text": [
      "\n",
      " LinkedList-Insert at position...\n",
      "1.Insert\n",
      "2.Display\n",
      "3.Search\n",
      "4.Exit\n"
     ]
    },
    {
     "name": "stdin",
     "output_type": "stream",
     "text": [
      "Enter your choice: 1\n",
      "Enter a value to insert: 66\n"
     ]
    },
    {
     "name": "stdout",
     "output_type": "stream",
     "text": [
      "\n",
      " LinkedList-Insert at position...\n",
      "1.Insert\n",
      "2.Display\n",
      "3.Search\n",
      "4.Exit\n"
     ]
    },
    {
     "name": "stdin",
     "output_type": "stream",
     "text": [
      "Enter your choice: 1\n",
      "Enter a value to insert: 99\n"
     ]
    },
    {
     "name": "stdout",
     "output_type": "stream",
     "text": [
      "\n",
      " LinkedList-Insert at position...\n",
      "1.Insert\n",
      "2.Display\n",
      "3.Search\n",
      "4.Exit\n"
     ]
    },
    {
     "name": "stdin",
     "output_type": "stream",
     "text": [
      "Enter your choice: 1\n",
      "Enter a value to insert: 44\n"
     ]
    },
    {
     "name": "stdout",
     "output_type": "stream",
     "text": [
      "\n",
      " LinkedList-Insert at position...\n",
      "1.Insert\n",
      "2.Display\n",
      "3.Search\n",
      "4.Exit\n"
     ]
    },
    {
     "name": "stdin",
     "output_type": "stream",
     "text": [
      "Enter your choice: 2\n"
     ]
    },
    {
     "name": "stdout",
     "output_type": "stream",
     "text": [
      "66---99---44---None\n",
      "\n",
      " LinkedList-Insert at position...\n",
      "1.Insert\n",
      "2.Display\n",
      "3.Search\n",
      "4.Exit\n"
     ]
    },
    {
     "name": "stdin",
     "output_type": "stream",
     "text": [
      "Enter your choice: 3\n",
      "Enter the value to search: 55\n"
     ]
    },
    {
     "name": "stdout",
     "output_type": "stream",
     "text": [
      "55 not found in linked list\n",
      "\n",
      " LinkedList-Insert at position...\n",
      "1.Insert\n",
      "2.Display\n",
      "3.Search\n",
      "4.Exit\n"
     ]
    },
    {
     "name": "stdin",
     "output_type": "stream",
     "text": [
      "Enter your choice: 3\n",
      "Enter the value to search: 44\n"
     ]
    },
    {
     "name": "stdout",
     "output_type": "stream",
     "text": [
      "44 found in the linkedlist\n",
      "\n",
      " LinkedList-Insert at position...\n",
      "1.Insert\n",
      "2.Display\n",
      "3.Search\n",
      "4.Exit\n"
     ]
    },
    {
     "name": "stdin",
     "output_type": "stream",
     "text": [
      "Enter your choice: 4\n"
     ]
    },
    {
     "name": "stdout",
     "output_type": "stream",
     "text": [
      "Exit\n"
     ]
    }
   ],
   "source": [
    "class Node:\n",
    "    def __init__(self,data):\n",
    "        self.data=data\n",
    "        self.next=None\n",
    "class LinkedList:\n",
    "    def __init__(self):\n",
    "        self.head=None\n",
    "    def iae(self,data):\n",
    "        newnode=Node(data)\n",
    "        if not self.head:\n",
    "            self.head=newnode\n",
    "            return\n",
    "        current=self.head\n",
    "        while current.next:\n",
    "            current=current.next\n",
    "        current.next=newnode\n",
    "    def search(self,key):\n",
    "        pos=1\n",
    "        current=self.head\n",
    "        while current:\n",
    "            if current.data==key:\n",
    "                print(f\"{key} found in the linkedlist\")\n",
    "                return True\n",
    "            current=current.next\n",
    "            pos+=1\n",
    "        print(f\"{key} not found in linked list\")\n",
    "        return False\n",
    "    def display(self):\n",
    "        current=self.head\n",
    "        if not current:\n",
    "            print(\"LL-Empty\")\n",
    "            return\n",
    "        while current:\n",
    "            print(current.data, end=\"---\")\n",
    "            current=current.next\n",
    "        print(\"None\")\n",
    "ll=LinkedList()\n",
    "while True:\n",
    "    print(\"\\n LinkedList-Insert at position...\")\n",
    "    print(\"1.Insert\")\n",
    "    print(\"2.Display\")\n",
    "    print(\"3.Search\")\n",
    "    print(\"4.Exit\")\n",
    "    choice=input(\"Enter your choice:\")\n",
    "    if choice=='1':\n",
    "        data=int(input(\"Enter a value to insert:\"))\n",
    "        ll.iae(data)\n",
    "    elif choice=='2':\n",
    "        ll.display()\n",
    "    elif choice=='3':\n",
    "        val=int(input(\"Enter the value to search:\"))\n",
    "        ll.search(val)\n",
    "    elif choice=='4':\n",
    "        print(\"Exit\")\n",
    "        break\n",
    "    else:\n",
    "        print(\"Enter the valid choice(1/2/3):\")\n"
   ]
  },
  {
   "cell_type": "code",
   "execution_count": null,
   "id": "d4dc8895-e893-48ea-aafd-dea59deb53b7",
   "metadata": {},
   "outputs": [],
   "source": []
  }
 ],
 "metadata": {
  "kernelspec": {
   "display_name": "Python 3 (ipykernel)",
   "language": "python",
   "name": "python3"
  },
  "language_info": {
   "codemirror_mode": {
    "name": "ipython",
    "version": 3
   },
   "file_extension": ".py",
   "mimetype": "text/x-python",
   "name": "python",
   "nbconvert_exporter": "python",
   "pygments_lexer": "ipython3",
   "version": "3.12.7"
  }
 },
 "nbformat": 4,
 "nbformat_minor": 5
}
