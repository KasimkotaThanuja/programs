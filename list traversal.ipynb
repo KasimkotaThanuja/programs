{
 "cells": [
  {
   "cell_type": "code",
   "execution_count": 1,
   "id": "cb3465ca-d216-46bd-9184-b75f45948a07",
   "metadata": {},
   "outputs": [
    {
     "name": "stdin",
     "output_type": "stream",
     "text": [
      "Enter the number of elements to insert at end: 5\n",
      "Enter element 1: 22\n",
      "Enter element 2: 33\n",
      "Enter element 3: 44\n",
      "Enter element 4: 55\n",
      "Enter element 5: 66\n"
     ]
    },
    {
     "name": "stdout",
     "output_type": "stream",
     "text": [
      "Double Linked List:\n",
      "22<-->33<-->44<-->55<-->66<-->None\n",
      "Values for traversing backward:\n",
      "66<-->55<-->44<-->33<-->22<-->None\n"
     ]
    }
   ],
   "source": [
    "#double linked list inserting at end with the traversal\n",
    "class Node:\n",
    "    def __init__(self,data):\n",
    "        self.data=data\n",
    "        self.prev=None\n",
    "        self.next=None\n",
    "class DoubleLinkedList:\n",
    "    def __init__(self):\n",
    "        self.head=None\n",
    "    def iae(self,data):\n",
    "        newnode=Node(data)\n",
    "        if self.head is None:\n",
    "            self.head=newnode\n",
    "            return\n",
    "        temp=self.head\n",
    "        while temp.next:\n",
    "            temp=temp.next\n",
    "        temp.next=newnode\n",
    "        newnode.prev=temp\n",
    "    def backtraversal(self):\n",
    "        print(\"Values for traversing backward:\")\n",
    "        temp=self.head\n",
    "        if not temp:\n",
    "            print(\"Empty List\")\n",
    "            return\n",
    "        while temp.next:\n",
    "            temp=temp.next\n",
    "        while temp:\n",
    "            print(temp.data,end='<-->')\n",
    "            temp=temp.prev\n",
    "        print(\"None\")\n",
    "    def display(self):\n",
    "        temp=self.head\n",
    "        print(\"Double Linked List:\")\n",
    "        while temp:\n",
    "            print(temp.data,end=\"<-->\")\n",
    "            temp=temp.next\n",
    "        print(\"None\")\n",
    "dll=DoubleLinkedList()\n",
    "n=int(input(\"Enter the number of elements to insert at end:\"))\n",
    "for i in range(n):\n",
    "    value=int(input(f\"Enter element {i+1}:\"))\n",
    "    dll.iae(value)\n",
    "dll.display()\n",
    "dll.backtraversal()"
   ]
  },
  {
   "cell_type": "code",
   "execution_count": 11,
   "id": "c930a4dc-9bd3-4559-bc2b-bf1cc0d7d9a3",
   "metadata": {},
   "outputs": [
    {
     "name": "stdin",
     "output_type": "stream",
     "text": [
      "Enter the number of elements to insert at begin: 5\n",
      "Enter element 1: 99\n",
      "Enter element 2: 88\n",
      "Enter element 3: 77\n",
      "Enter element 4: 66\n",
      "Enter element 5: 55\n"
     ]
    },
    {
     "name": "stdout",
     "output_type": "stream",
     "text": [
      "Double Linked List:\n",
      "55<-->66<-->77<-->88<-->99<-->None\n",
      "Values for traversing backward:\n",
      "99<-->88<-->77<-->66<-->55<-->None\n"
     ]
    }
   ],
   "source": [
    "#double linked list inserting at begin with the traversal\n",
    "class Node:\n",
    "    def __init__(self,data):\n",
    "        self.data=data\n",
    "        self.prev=None\n",
    "        self.next=None\n",
    "class DoubleLinkedList:\n",
    "    def __init__(self):\n",
    "        self.head=None\n",
    "    def iab(self,data):\n",
    "        newnode=Node(data)\n",
    "        newnode.next= self.head\n",
    "        if self.head:\n",
    "            self.head.prev=newnode\n",
    "        self.head= newnode\n",
    "            \n",
    "      \n",
    "    def backtraversal(self):\n",
    "        print(\"Values for traversing backward:\")\n",
    "        temp=self.head\n",
    "        if not temp:\n",
    "            print(\"Empty List\")\n",
    "            return\n",
    "        while temp.next:\n",
    "            temp=temp.next\n",
    "        while temp:\n",
    "            print(temp.data,end='<-->')\n",
    "            temp=temp.prev\n",
    "        print(\"None\")\n",
    "    def display(self):\n",
    "        temp=self.head\n",
    "        print(\"Double Linked List:\")\n",
    "        while temp:\n",
    "            print(temp.data,end=\"<-->\")\n",
    "            temp=temp.next\n",
    "        print(\"None\")\n",
    "dll=DoubleLinkedList()\n",
    "n=int(input(\"Enter the number of elements to insert at begin:\"))\n",
    "for i in range(n):\n",
    "    value=int(input(f\"Enter element {i+1}:\"))\n",
    "    dll.iab(value)\n",
    "dll.display()\n",
    "dll.backtraversal()"
   ]
  },
  {
   "cell_type": "code",
   "execution_count": null,
   "id": "30122736-4d27-4bb1-9ab1-be8924e1bc07",
   "metadata": {},
   "outputs": [],
   "source": [
    "#delete operation in double linked list\n",
    "'''1.delete at begin/insert at begin\n",
    "40<-->30<-->20<-->10\n",
    "2.delete at begin / insert at end \n",
    "3.delete at end/insert at end\n",
    "4.delete at end/inser at begin'''"
   ]
  },
  {
   "cell_type": "code",
   "execution_count": 9,
   "id": "61495613-bec5-4b89-8eaf-680f222f33b6",
   "metadata": {},
   "outputs": [
    {
     "name": "stdin",
     "output_type": "stream",
     "text": [
      "Enter the number of elements to insert at end: 5\n",
      "Enter element 1: 22\n",
      "Enter element 2: 33\n",
      "Enter element 3: 44\n",
      "Enter element 4: 55\n",
      "Enter element 5: 66\n"
     ]
    },
    {
     "name": "stdout",
     "output_type": "stream",
     "text": [
      "Double Linked List:\n",
      "66<-->55<-->44<-->33<-->22<-->None\n"
     ]
    },
    {
     "name": "stdin",
     "output_type": "stream",
     "text": [
      "\n",
      " how many times you want to perform delete opr: 2\n"
     ]
    },
    {
     "name": "stdout",
     "output_type": "stream",
     "text": [
      "deleted:66\n",
      "Double Linked List:\n",
      "55<-->44<-->33<-->22<-->None\n",
      "deleted:55\n",
      "Double Linked List:\n",
      "44<-->33<-->22<-->None\n"
     ]
    }
   ],
   "source": [
    "#double linked list inserting at begin and delete at begining  with the traversal\n",
    "class Node:\n",
    "    def __init__(self,data):\n",
    "        self.data=data\n",
    "        self.prev=None\n",
    "        self.next=None\n",
    "class DoubleLinkedList:\n",
    "    def __init__(self):\n",
    "        self.head=None\n",
    "    def iab(self,data):\n",
    "        newnode=Node(data)\n",
    "        newnode.next= self.head\n",
    "        if self.head:\n",
    "            self.head.prev=newnode\n",
    "        self.head= newnode\n",
    "    def dab(self):\n",
    "        if not self.head:\n",
    "            print(\"cant perform delete in an empty list...\")\n",
    "        print(f\"deleted:{self.head.data}\")\n",
    "        self.head= self.head.next\n",
    "        if self.head:\n",
    "            self.head.prev=None\n",
    "      \n",
    "   \n",
    "    def display(self):\n",
    "        temp=self.head\n",
    "        print(\"Double Linked List:\")\n",
    "        while temp:\n",
    "            print(temp.data,end=\"<-->\")\n",
    "            temp=temp.next\n",
    "        print(\"None\")\n",
    "dll=DoubleLinkedList()\n",
    "n=int(input(\"Enter the number of elements to insert at end:\"))\n",
    "for i in range(n):\n",
    "    value=int(input(f\"Enter element {i+1}:\"))\n",
    "    dll.iab(value)\n",
    "dll.display()\n",
    "d= int(input(\"\\n how many times you want to perform delete opr:\"))\n",
    "for _ in range(d):\n",
    "    dll.dab()\n",
    "    dll.display()\n"
   ]
  },
  {
   "cell_type": "code",
   "execution_count": 15,
   "id": "f7341c51-407f-48e1-b099-4112b6cfc421",
   "metadata": {},
   "outputs": [
    {
     "name": "stdin",
     "output_type": "stream",
     "text": [
      "Enter the number of elements to insert at end: 5\n",
      "Enter element 1: 22\n",
      "Enter element 2: 33\n",
      "Enter element 3: 44\n",
      "Enter element 4: 55\n",
      "Enter element 5: 5\n"
     ]
    },
    {
     "name": "stdout",
     "output_type": "stream",
     "text": [
      "Double Linked List:\n",
      "5<-->55<-->44<-->33<-->22<-->None\n"
     ]
    },
    {
     "name": "stdin",
     "output_type": "stream",
     "text": [
      "\n",
      " how many times you want to perform delete opr: 2\n"
     ]
    },
    {
     "name": "stdout",
     "output_type": "stream",
     "text": [
      "deleted: 22\n",
      "Double Linked List:\n",
      "5<-->55<-->44<-->33<-->None\n",
      "deleted: 33\n",
      "Double Linked List:\n",
      "5<-->55<-->44<-->None\n"
     ]
    }
   ],
   "source": [
    "#double linked list inserting at begin and delete at end with the traversal\n",
    "class Node:\n",
    "    def __init__(self,data):\n",
    "        self.data=data\n",
    "        self.prev=None\n",
    "        self.next=None\n",
    "class DoubleLinkedList:\n",
    "    def __init__(self):\n",
    "        self.head=None\n",
    "    def iab(self,data):\n",
    "        newnode=Node(data)\n",
    "        newnode.next= self.head\n",
    "        if self.head:\n",
    "            self.head.prev=newnode\n",
    "        self.head= newnode\n",
    "    def dae(self):\n",
    "        if self.head is None:\n",
    "            print(\"cant perform delete in an empty list...\")\n",
    "            return\n",
    "        temp= self.head\n",
    "        while temp.next:\n",
    "            temp=temp.next\n",
    "        print(f\"deleted: {temp.data}\")\n",
    "        if temp.prev:\n",
    "            temp.prev.next= None\n",
    "        else:\n",
    "            self.head=None\n",
    "       \n",
    "      \n",
    "   \n",
    "    def display(self):\n",
    "        temp=self.head\n",
    "        print(\"Double Linked List:\")\n",
    "        while temp:\n",
    "            print(temp.data,end=\"<-->\")\n",
    "            temp=temp.next\n",
    "        print(\"None\")\n",
    "dll=DoubleLinkedList()\n",
    "n=int(input(\"Enter the number of elements to insert at end:\"))\n",
    "for i in range(n):\n",
    "    value=int(input(f\"Enter element {i+1}:\"))\n",
    "    dll.iab(value)\n",
    "dll.display()\n",
    "d= int(input(\"\\n how many times you want to perform delete opr:\"))\n",
    "for _ in range(d):\n",
    "    dll.dae()\n",
    "    dll.display()\n"
   ]
  },
  {
   "cell_type": "code",
   "execution_count": 17,
   "id": "b47a09ff-f6de-4ab4-9923-45ac5316427d",
   "metadata": {},
   "outputs": [
    {
     "name": "stdin",
     "output_type": "stream",
     "text": [
      "Enter the number of elements to insert at end: 5\n",
      "Enter element 1: 9\n",
      "Enter element 2: 7\n",
      "Enter element 3: 5\n",
      "Enter element 4: 4\n",
      "Enter element 5: 2\n"
     ]
    },
    {
     "name": "stdout",
     "output_type": "stream",
     "text": [
      "Double Linked List:\n",
      "9<-->7<-->5<-->4<-->2<-->None\n"
     ]
    },
    {
     "name": "stdin",
     "output_type": "stream",
     "text": [
      "\n",
      " how many times you want to perform delete opr: 3\n"
     ]
    },
    {
     "name": "stdout",
     "output_type": "stream",
     "text": [
      "deleted: 2\n",
      "Double Linked List:\n",
      "9<-->7<-->5<-->4<-->None\n",
      "deleted: 4\n",
      "Double Linked List:\n",
      "9<-->7<-->5<-->None\n",
      "deleted: 5\n",
      "Double Linked List:\n",
      "9<-->7<-->None\n"
     ]
    }
   ],
   "source": [
    "#double linked list inserting at end  and delete at end with the traversal\n",
    "class Node:\n",
    "    def __init__(self,data):\n",
    "        self.data=data\n",
    "        self.prev=None\n",
    "        self.next=None\n",
    "class DoubleLinkedList:\n",
    "    def __init__(self):\n",
    "        self.head=None\n",
    "    def iae(self,data):\n",
    "        newnode=Node(data)\n",
    "        if not self.head:\n",
    "            self.head= newnode\n",
    "            return\n",
    "        temp= self.head\n",
    "        while temp.next:\n",
    "            temp=temp.next\n",
    "        temp.next= newnode\n",
    "        newnode.prev= temp\n",
    "\n",
    "\n",
    "\n",
    "    \n",
    "       \n",
    "    def dae(self):\n",
    "        if self.head is None:\n",
    "            print(\"cant perform delete in an empty list...\")\n",
    "            return\n",
    "        temp= self.head\n",
    "        while temp.next:\n",
    "            temp=temp.next\n",
    "        print(f\"deleted: {temp.data}\")\n",
    "        if temp.prev:\n",
    "            temp.prev.next= None\n",
    "        else:\n",
    "            self.head=None\n",
    "       \n",
    "      \n",
    "   \n",
    "    def display(self):\n",
    "        temp=self.head\n",
    "        print(\"Double Linked List:\")\n",
    "        while temp:\n",
    "            print(temp.data,end=\"<-->\")\n",
    "            temp=temp.next\n",
    "        print(\"None\")\n",
    "dll=DoubleLinkedList()\n",
    "n=int(input(\"Enter the number of elements to insert at end:\"))\n",
    "for i in range(n):\n",
    "    value=int(input(f\"Enter element {i+1}:\"))\n",
    "    dll.iae(value)\n",
    "dll.display()\n",
    "d= int(input(\"\\n how many times you want to perform delete opr:\"))\n",
    "for _ in range(d):\n",
    "    dll.dae()\n",
    "    dll.display()\n"
   ]
  },
  {
   "cell_type": "code",
   "execution_count": 21,
   "id": "ebfa585b-5d22-40dd-810e-ad20252ab098",
   "metadata": {},
   "outputs": [
    {
     "name": "stdin",
     "output_type": "stream",
     "text": [
      "Enter the number of elements to insert at end: 5\n",
      "Enter element 1: 22\n",
      "Enter element 2: 33\n",
      "Enter element 3: 44\n",
      "Enter element 4: 55\n",
      "Enter element 5: 66\n"
     ]
    },
    {
     "name": "stdout",
     "output_type": "stream",
     "text": [
      "Double Linked List:\n",
      "22<-->33<-->44<-->55<-->66<-->None\n"
     ]
    },
    {
     "name": "stdin",
     "output_type": "stream",
     "text": [
      "\n",
      " how many times you want to perform delete opr: 2\n"
     ]
    },
    {
     "name": "stdout",
     "output_type": "stream",
     "text": [
      "deleted:22\n",
      "Double Linked List:\n",
      "33<-->44<-->55<-->66<-->None\n",
      "deleted:33\n",
      "Double Linked List:\n",
      "44<-->55<-->66<-->None\n"
     ]
    }
   ],
   "source": [
    "#double linked list inserting at end  and delete at end with the traversal\n",
    "class Node:\n",
    "    def __init__(self,data):\n",
    "        self.data=data\n",
    "        self.prev=None\n",
    "        self.next=None\n",
    "class DoubleLinkedList:\n",
    "    def __init__(self):\n",
    "        self.head=None\n",
    "    def iae(self,data):\n",
    "        newnode=Node(data)\n",
    "        if not self.head:\n",
    "            self.head= newnode\n",
    "            return\n",
    "        temp= self.head\n",
    "        while temp.next:\n",
    "            temp=temp.next\n",
    "        temp.next= newnode\n",
    "        newnode.prev= temp\n",
    "    def dab(self):\n",
    "        if not self.head:\n",
    "            print(\"cant perform delete in an empty list...\")\n",
    "        print(f\"deleted:{self.head.data}\")\n",
    "        self.head= self.head.next\n",
    "        if self.head:\n",
    "            self.head.prev=None   \n",
    "\n",
    "\n",
    "\n",
    "    \n",
    "       \n",
    "\n",
    "       \n",
    "      \n",
    "   \n",
    "    def display(self):\n",
    "        temp=self.head\n",
    "        print(\"Double Linked List:\")\n",
    "        while temp:\n",
    "            print(temp.data,end=\"<-->\")\n",
    "            temp=temp.next\n",
    "        print(\"None\")\n",
    "dll=DoubleLinkedList()\n",
    "n=int(input(\"Enter the number of elements to insert at end:\"))\n",
    "for i in range(n):\n",
    "    value=int(input(f\"Enter element {i+1}:\"))\n",
    "    dll.iae(value)\n",
    "dll.display()\n",
    "d= int(input(\"\\n how many times you want to perform delete opr:\"))\n",
    "for _ in range(d):\n",
    "    dll.dab()\n",
    "    dll.display()\n"
   ]
  },
  {
   "cell_type": "code",
   "execution_count": 25,
   "id": "57126cd0-eeed-45c7-9dee-1af3129a479d",
   "metadata": {},
   "outputs": [
    {
     "name": "stdin",
     "output_type": "stream",
     "text": [
      "Enter the number of elements to insert at end: 5\n",
      "Enter element 1: 22\n",
      "Enter element 2: 33\n",
      "Enter element 3: 44\n",
      "Enter element 4: 55\n",
      "Enter element 5: 66\n"
     ]
    },
    {
     "name": "stdout",
     "output_type": "stream",
     "text": [
      "Double Linked List:\n",
      "22<-->33<-->44<-->55<-->66<-->None\n"
     ]
    },
    {
     "name": "stdin",
     "output_type": "stream",
     "text": [
      "Enter the value to delete: 44\n"
     ]
    },
    {
     "name": "stdout",
     "output_type": "stream",
     "text": [
      "44 deleted from LL\n",
      "Double Linked List:\n",
      "22<-->33<-->55<-->66<-->None\n"
     ]
    }
   ],
   "source": [
    "#delete operation by value by inserting at end\n",
    "class Node:\n",
    "    def __init__(self,data):\n",
    "        self.data=data\n",
    "        self.prev=None\n",
    "        self.next=None\n",
    "class DoubleLinkedList:\n",
    "    def __init__(self):\n",
    "        self.head=None\n",
    "    def iae(self,data):\n",
    "        newnode=Node(data)\n",
    "        if self.head is None:\n",
    "            self.head=newnode\n",
    "            return\n",
    "        temp=self.head\n",
    "        while temp.next:\n",
    "            temp=temp.next\n",
    "        temp.next=newnode\n",
    "        newnode.prev=temp\n",
    "    def deletevalue(self,key):\n",
    "         current=self.head\n",
    "         if not current:\n",
    "             print(\"Empty linked list\")\n",
    "             return\n",
    "         if current.data==key:\n",
    "             self.head=current.next\n",
    "             print(f\"{key} deleted from list\")\n",
    "             return\n",
    "         prev=None\n",
    "         while current and current.data!=key:\n",
    "             prev=current\n",
    "             current=current.next\n",
    "         if not current:\n",
    "             print(f\"{key} not found\")\n",
    "             return\n",
    "         prev.next=current.next\n",
    "         print(f\"{key} deleted from LL\")\n",
    "    def display(self):\n",
    "        current=self.head\n",
    "        if not current:\n",
    "            print(\"LL-Empty\")\n",
    "            return\n",
    "        while current:\n",
    "            print(current.data, end=\"---\")\n",
    "            current=current.next\n",
    "        print(\"None\")\n",
    "    def display(self):\n",
    "        temp=self.head\n",
    "        print(\"Double Linked List:\")\n",
    "        while temp:\n",
    "            print(temp.data,end=\"<-->\")\n",
    "            temp=temp.next\n",
    "        print(\"None\")\n",
    "dll=DoubleLinkedList()\n",
    "n=int(input(\"Enter the number of elements to insert at end:\"))\n",
    "for i in range(n):\n",
    "    value=int(input(f\"Enter element {i+1}:\"))\n",
    "    dll.iae(value)\n",
    "dll.display()\n",
    "value=int(input(\"Enter the value to delete:\"))\n",
    "dll.deletevalue(value)\n",
    "dll.display()"
   ]
  },
  {
   "cell_type": "code",
   "execution_count": null,
   "id": "c2957c3b-cf84-4ac0-aa7a-3eb5871d3190",
   "metadata": {},
   "outputs": [],
   "source": [
    "'''code check the duplicates in a DLL and print the count of the frequency \n",
    "input=6\n",
    "10 20 30 20 10 40\n",
    "output:\n",
    "DLL\n",
    "10<-->20<-->30<--->20<-->10<-->40\n",
    "duplicate values in DLL:\n",
    "10 appears 2 times\n",
    "20 appears 2 times'''\n",
    "\n",
    "\n",
    "\n",
    "\n",
    "#double linked list inserting at begin and delete at end with the traversal\n",
    "class Node:\n",
    "    def __init__(self,data):\n",
    "        self.data=data\n",
    "        self.prev=None\n",
    "        self.next=None\n",
    "class DoubleLinkedList:\n",
    "    def __init__(self):\n",
    "        self.head=None\n",
    "    def iab(self,data):\n",
    "        newnode=Node(data)\n",
    "        newnode.next= self.head\n",
    "        if self.head:\n",
    "            self.head.prev=newnode\n",
    "        self.head= newnode\n",
    "    def dae(self):\n",
    "        if self.head is None:\n",
    "            print(\"cant perform delete in an empty list...\")\n",
    "            return\n",
    "        temp= self.head\n",
    "        while temp.next:\n",
    "            temp=temp.next\n",
    "        print(f\"deleted: {temp.data}\")\n",
    "        if temp.prev:\n",
    "            temp.prev.next= None\n",
    "        else:\n",
    "            self.head=None\n",
    "       \n",
    "      \n",
    "   \n",
    "    def display(self):\n",
    "        temp=self.head\n",
    "        print(\"Double Linked List:\")\n",
    "        while temp:\n",
    "            print(temp.data,end=\"<-->\")\n",
    "            temp=temp.next\n",
    "        print(\"None\")\n",
    "dll=DoubleLinkedList()\n",
    "n=int(input(\"Enter the number of elements to insert at end:\"))\n",
    "for i in range(n):\n",
    "    value=int(input(f\"Enter element {i+1}:\"))\n",
    "    dll.iab(value)\n",
    "dll.display()\n",
    "d= int(input(\"\\n how many times you want to perform delete opr:\"))\n",
    "for _ in range(d):\n",
    "    dll.dae()\n",
    "    dll.display()\n",
    "\n",
    "\n",
    "\n",
    "\n",
    "\n"
   ]
  }
 ],
 "metadata": {
  "kernelspec": {
   "display_name": "Python 3 (ipykernel)",
   "language": "python",
   "name": "python3"
  },
  "language_info": {
   "codemirror_mode": {
    "name": "ipython",
    "version": 3
   },
   "file_extension": ".py",
   "mimetype": "text/x-python",
   "name": "python",
   "nbconvert_exporter": "python",
   "pygments_lexer": "ipython3",
   "version": "3.12.7"
  }
 },
 "nbformat": 4,
 "nbformat_minor": 5
}
