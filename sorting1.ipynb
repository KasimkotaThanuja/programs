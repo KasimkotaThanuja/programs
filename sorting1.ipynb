{
 "cells": [
  {
   "cell_type": "code",
   "execution_count": 17,
   "id": "bee32ad3-3ef9-4a5a-8496-6b712e0e502c",
   "metadata": {},
   "outputs": [
    {
     "name": "stdin",
     "output_type": "stream",
     "text": [
      "enter the number of elements: 5\n"
     ]
    },
    {
     "name": "stdout",
     "output_type": "stream",
     "text": [
      "enter  5  elements\n"
     ]
    },
    {
     "name": "stdin",
     "output_type": "stream",
     "text": [
      " 10\n",
      " 3\n",
      " 6\n",
      " 9\n",
      " 20\n"
     ]
    },
    {
     "name": "stdout",
     "output_type": "stream",
     "text": [
      "sorted array [20, 10, 9, 6, 3]\n"
     ]
    }
   ],
   "source": [
    "def selection_sort(arr):\n",
    "    n=len(arr)\n",
    "    for i in range(n):\n",
    "        min_index=i\n",
    "        for j in range(i+1,n):\n",
    "            if arr[j]> arr[min_index]:\n",
    "                min_index=j\n",
    "        arr[i], arr[min_index]=arr[min_index],arr[i]\n",
    "    return arr\n",
    "\n",
    "\n",
    "size = int(input(\"enter the number of elements:\"))\n",
    "arr=[]\n",
    "print(\"enter \", size,\" elements\")\n",
    "for _ in range(size):\n",
    "   num=int(input())\n",
    "   arr.append(num)\n",
    "result=selection_sort(arr)\n",
    "print(\"sorted array\", result)\n",
    "\n"
   ]
  },
  {
   "cell_type": "code",
   "execution_count": 25,
   "id": "959a3eeb-455d-41fb-baad-03c51f3f2933",
   "metadata": {},
   "outputs": [
    {
     "name": "stdin",
     "output_type": "stream",
     "text": [
      "enter the number of elements: 5\n"
     ]
    },
    {
     "name": "stdout",
     "output_type": "stream",
     "text": [
      "enter  5  elements\n"
     ]
    },
    {
     "name": "stdin",
     "output_type": "stream",
     "text": [
      " 40\n",
      " 21\n",
      " 84\n",
      " 32\n",
      " 5\n"
     ]
    },
    {
     "name": "stdout",
     "output_type": "stream",
     "text": [
      "sorted array [5, 21, 32, 40, 84]\n"
     ]
    }
   ],
   "source": [
    "def insertion_sort(arr):\n",
    "    for i in range(1,len(arr)):\n",
    "        key = arr[i]\n",
    "        j=i-1\n",
    "        while j>=0 and arr[j]>key:\n",
    "            arr[j+1]=arr[j]\n",
    "            j-=1\n",
    "        arr[j+1]=key\n",
    "    return arr\n",
    "\n",
    "\n",
    "size = int(input(\"enter the number of elements:\"))\n",
    "arr=[]\n",
    "print(\"enter \", size,\" elements\")\n",
    "for _ in range(size):\n",
    "   num=int(input())\n",
    "   arr.append(num)\n",
    "result=insertion_sort(arr)\n",
    "print(\"sorted array\", result)\n"
   ]
  },
  {
   "cell_type": "code",
   "execution_count": 1,
   "id": "d10c2c7e-3a27-4d9d-b893-f89fed8da0d3",
   "metadata": {},
   "outputs": [
    {
     "name": "stdin",
     "output_type": "stream",
     "text": [
      "enter the number of elements: 4\n"
     ]
    },
    {
     "name": "stdout",
     "output_type": "stream",
     "text": [
      "enter  4  elements\n"
     ]
    },
    {
     "name": "stdin",
     "output_type": "stream",
     "text": [
      " cherry\n",
      " banana\n",
      " papaya\n",
      " apple\n"
     ]
    },
    {
     "name": "stdout",
     "output_type": "stream",
     "text": [
      "sorted array ['apple', 'banana', 'cherry', 'papaya']\n"
     ]
    }
   ],
   "source": [
    "def insertion_sort(arr):\n",
    "    for i in range(1,len(arr)):\n",
    "        key = arr[i]\n",
    "        j=i-1\n",
    "        while j>=0 and arr[j]>key:\n",
    "            arr[j+1]=arr[j]\n",
    "            j-=1\n",
    "        arr[j+1]=key\n",
    "    return arr\n",
    "\n",
    "\n",
    "size = int(input(\"enter the number of elements:\"))\n",
    "arr=[]\n",
    "print(\"enter \", size,\" elements\")\n",
    "for _ in range(size):\n",
    "   num=input()\n",
    "   arr.append(num)\n",
    "result=insertion_sort(arr)\n",
    "print(\"sorted array\", result)"
   ]
  },
  {
   "cell_type": "code",
   "execution_count": 4,
   "id": "d8ae39e6-a5b7-454d-bde4-f96107f91755",
   "metadata": {},
   "outputs": [
    {
     "name": "stdin",
     "output_type": "stream",
     "text": [
      "enter the number of elements: 4\n"
     ]
    },
    {
     "name": "stdout",
     "output_type": "stream",
     "text": [
      "enter  4  elements\n"
     ]
    },
    {
     "name": "stdin",
     "output_type": "stream",
     "text": [
      " chair\n",
      " popcorn\n",
      " picture\n",
      " hai\n"
     ]
    },
    {
     "name": "stdout",
     "output_type": "stream",
     "text": [
      "sorted array ['hai', 'chair', 'popcorn', 'picture']\n"
     ]
    }
   ],
   "source": [
    "''''perfor insetion sort on strings based on length of the words'''\n",
    "def insertion_sort(arr):\n",
    "    for i in range(1,len(arr)):\n",
    "        key = arr[i]\n",
    "        j=i-1\n",
    "        while j>=0 and len(arr[j])>len(key):\n",
    "            arr[j+1]=arr[j]\n",
    "            j-=1\n",
    "        arr[j+1]=key\n",
    "    return arr\n",
    "\n",
    "size = int(input(\"enter the number of elements:\"))\n",
    "arr=[]\n",
    "print(\"enter \", size,\" elements\")\n",
    "for _ in range(size):\n",
    "   num=input()\n",
    "   arr.append(num)\n",
    "result=insertion_sort(arr)\n",
    "print(\"sorted array\", result)\n"
   ]
  },
  {
   "cell_type": "code",
   "execution_count": 8,
   "id": "2970215a-2011-4372-81c3-a867d09663a0",
   "metadata": {},
   "outputs": [
    {
     "name": "stdin",
     "output_type": "stream",
     "text": [
      "enter a string thanuja\n"
     ]
    },
    {
     "name": "stdout",
     "output_type": "stream",
     "text": [
      "['a', 'a', 'h', 'j', 'n', 't', 'u']\n",
      "sorted characters: aahjntu\n"
     ]
    }
   ],
   "source": [
    "def insertion_sort(arr):\n",
    "    for i in range(1,len(arr)):\n",
    "        key = arr[i]\n",
    "        j=i-1\n",
    "        while j>=0 and arr[j]>(key):\n",
    "            arr[j+1]=arr[j]\n",
    "            j-=1\n",
    "        arr[j+1]=key\n",
    "    return arr\n",
    "text=input(\"enter a string\")\n",
    "ch=list(text)\n",
    "sort_chars=insertion_sort(ch)\n",
    "print(ch)\n",
    "print(\"sorted characters:\",''.join(ch))\n",
    "\n",
    "\n",
    "\n",
    "\n"
   ]
  },
  {
   "cell_type": "code",
   "execution_count": null,
   "id": "57c136b5-2e2a-4ba6-8236-1d75d8b7d6cf",
   "metadata": {},
   "outputs": [],
   "source": []
  }
 ],
 "metadata": {
  "kernelspec": {
   "display_name": "Python 3 (ipykernel)",
   "language": "python",
   "name": "python3"
  },
  "language_info": {
   "codemirror_mode": {
    "name": "ipython",
    "version": 3
   },
   "file_extension": ".py",
   "mimetype": "text/x-python",
   "name": "python",
   "nbconvert_exporter": "python",
   "pygments_lexer": "ipython3",
   "version": "3.12.7"
  }
 },
 "nbformat": 4,
 "nbformat_minor": 5
}
