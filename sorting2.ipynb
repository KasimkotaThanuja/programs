{
 "cells": [
  {
   "cell_type": "code",
   "execution_count": 5,
   "id": "fd99d0c5-2f4e-4230-96b4-06c4fb965797",
   "metadata": {},
   "outputs": [
    {
     "name": "stdin",
     "output_type": "stream",
     "text": [
      "Enter the number of elements: 5\n"
     ]
    },
    {
     "name": "stdout",
     "output_type": "stream",
     "text": [
      "Enter the elements:\n"
     ]
    },
    {
     "name": "stdin",
     "output_type": "stream",
     "text": [
      " 8\n",
      " 4\n",
      " 9\n",
      " 3\n",
      " 2\n"
     ]
    },
    {
     "name": "stdout",
     "output_type": "stream",
     "text": [
      "Original list: [8, 4, 9, 3, 2]\n",
      "Bubble sort: [2, 3, 4, 8, 9]\n"
     ]
    }
   ],
   "source": [
    "#buble sort\n",
    "'''start from beginng o tey\n",
    "compare each pair to adjcent number\n",
    "if latest element is greater than  adjacent perform swap\n",
    "repeat the process till (n-1) elements\n",
    "after each cycle/pass largest unsorted would be in correct position\n",
    "repeat this process/pass until all elements are sorted \n",
    "for i-0 to n-1:\n",
    "for j-0 to n-i-2:\n",
    "if [j]>a[+1]\n",
    "swap (a[j],[j=1])'''\n",
    "\n",
    "def bubble_sort(arr):\n",
    "    n=len(arr)\n",
    "    for i in range(n):\n",
    "        for j in range(0,n-i-1):\n",
    "            if arr[j]>arr[j+1]:\n",
    "                arr[j],arr[j+1]=arr[j+1],arr[j]\n",
    "   \n",
    "size=int(input(\"Enter the number of elements:\"))\n",
    "arr=[]\n",
    "print(\"Enter the elements:\")\n",
    "for _ in range(size):\n",
    "    arr.append(int(input()))\n",
    "print(\"Original list:\",arr)\n",
    "bubble_sort(arr)\n",
    "print(\"Bubble sort:\",arr)\n",
    "\n",
    "\n",
    "\n",
    "\n"
   ]
  },
  {
   "cell_type": "code",
   "execution_count": null,
   "id": "0210dc04-8a95-44b9-8345-8e1646f38b2b",
   "metadata": {},
   "outputs": [],
   "source": [
    "'''#counting sort\n",
    "non-comparision sort\n",
    "no -ve numbers\n",
    "no long numbers\n",
    "short confined numbers only ex: 0-100\n",
    "algo:\n",
    "find max min of array \n",
    "min !<0 \n",
    "create a count array to store the frequency of numnbers\n",
    "modify count array , for each element to be stored the sum of previous counts .\n",
    "place the output array back to the original array\n",
    "pseudo code:\n",
    "countsort(arr,n):\n",
    "find the max in arr\n",
    "create count(0-max)\n",
    "for i-> 0 to n-1:\n",
    "count[a[i]]+=1\n",
    "for i-> 1 to max_val:\n",
    "count[i]+= count[i-1]\n",
    "create output arr[n]\n",
    "for i ->n-1 to 0:\n",
    "output[count[a[i]]-1]=a[i]\n",
    "count[a[i]]-=1\n",
    "copy output to arr'''\n",
    "\n",
    "def csort(arr):\n",
    "    if not arr:\n",
    "        return []\n",
    "    max_val=max(arr)\n",
    "    count=[0]*(max_val+1)\n",
    "    #freq\n",
    "    for num in arr:\n",
    "        count[num]+=1\n",
    "    #count\n",
    "    for i in range(1,len(count)):\n",
    "        count[i]+=count[i-1]\n",
    "    output=[0]*len(arr)\n",
    "    #stable sort\n",
    "    for num in reversed(arr):\n",
    "        output[count[num]-1]=num\n",
    "        count[num]-=1\n",
    "    #coping sorted list\n",
    "    for i in range(len(arr)):\n",
    "        arr[i]=output[i]\n",
    "size=int(input(\"Enter the number of elements:\"))\n",
    "arr=[]\n",
    "print(\"Enter the elements:\")\n",
    "for _ in range(size):\n",
    "    arr.append(int(input()))\n",
    "print(\"Original list:\",arr)\n",
    "bubble_sort(arr)\n",
    "print(\"Bubble Sorted:\",arr)\n",
    "\n",
    "\n"
   ]
  }
 ],
 "metadata": {
  "kernelspec": {
   "display_name": "Python 3 (ipykernel)",
   "language": "python",
   "name": "python3"
  },
  "language_info": {
   "codemirror_mode": {
    "name": "ipython",
    "version": 3
   },
   "file_extension": ".py",
   "mimetype": "text/x-python",
   "name": "python",
   "nbconvert_exporter": "python",
   "pygments_lexer": "ipython3",
   "version": "3.12.7"
  }
 },
 "nbformat": 4,
 "nbformat_minor": 5
}
