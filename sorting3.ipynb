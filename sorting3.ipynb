{
 "cells": [
  {
   "cell_type": "code",
   "execution_count": 11,
   "id": "a13270b6-1eeb-46eb-b34e-743249039ed4",
   "metadata": {},
   "outputs": [
    {
     "name": "stdin",
     "output_type": "stream",
     "text": [
      "enter the single word school\n"
     ]
    },
    {
     "name": "stdout",
     "output_type": "stream",
     "text": [
      "original string: school\n",
      "sorted string : chloos\n"
     ]
    }
   ],
   "source": [
    "def countsort_string(s):\n",
    "    count= [0]*26\n",
    "    for char in s:\n",
    "        count[ord(char)-ord('a')]+=1\n",
    "    sorted_str=''\n",
    "    for i in range(26):\n",
    "        sorted_str+=chr(i+ord('a')) *count[i]\n",
    "    return sorted_str\n",
    "\n",
    "    \n",
    "\n",
    "\n",
    "\n",
    "name= input(\"enter the single word\")\n",
    "sorted_name= countsort_string(name)\n",
    "print(\"original string:\", name)\n",
    "print(\"sorted string :\", sorted_name)\n"
   ]
  },
  {
   "cell_type": "code",
   "execution_count": 13,
   "id": "bfdca985-a80b-4871-a9ad-4fee2bc9023c",
   "metadata": {},
   "outputs": [
    {
     "name": "stdin",
     "output_type": "stream",
     "text": [
      "enter the single word PHOTOSYNTHESIS\n"
     ]
    },
    {
     "name": "stdout",
     "output_type": "stream",
     "text": [
      "original string: PHOTOSYNTHESIS\n",
      "sorted string : EHHINOOPSSSTTY\n"
     ]
    }
   ],
   "source": [
    "def countsort_string(s):\n",
    "    count= [0]*26\n",
    "    for char in s:\n",
    "        count[ord(char)-ord('A')]+=1\n",
    "    sorted_str=''\n",
    "    for i in range(26):\n",
    "        sorted_str+=chr(i+ord('A')) *count[i]\n",
    "    return sorted_str\n",
    "\n",
    "    \n",
    "\n",
    "\n",
    "\n",
    "name= input(\"enter the single word\")\n",
    "sorted_name= countsort_string(name)\n",
    "print(\"original string:\", name)\n",
    "print(\"sorted string :\", sorted_name)\n"
   ]
  },
  {
   "cell_type": "code",
   "execution_count": 17,
   "id": "7cb38173-f356-4e43-b037-082b4279bbef",
   "metadata": {},
   "outputs": [
    {
     "name": "stdout",
     "output_type": "stream",
     "text": [
      "before sort [170, 45, 75, 90, 802, 24, 2, 66]\n",
      "after sort [2, 24, 45, 66, 75, 90, 170, 802]\n"
     ]
    }
   ],
   "source": [
    "'''radix sort'''\n",
    "def count_sort(ar,exp):\n",
    "    n=len(arr)\n",
    "    output=[0]*n\n",
    "    count=[0]* 10 #0->9 empty buckerts for count of digits\n",
    "    for i in range(n):\n",
    "        index=(arr[i]//exp)%10\n",
    "        count[index]+=1\n",
    "    for i in range(1,10):\n",
    "        count[i]+=count[i-1]\n",
    "    i=n-1\n",
    "    while i>=0:\n",
    "        index= (arr[i]//exp)%10\n",
    "        output[count[index]-1]=arr[i]\n",
    "        count[index]-=1\n",
    "        i-=1\n",
    "    for i in range(n):\n",
    "        arr[i]=output[i]\n",
    "def radix_sort(arr):\n",
    "    max_num=max(arr)\n",
    "    exp=1\n",
    "    while max_num//exp>0:\n",
    "        count_sort(arr,exp)\n",
    "        exp*=10\n",
    "    \n",
    "\n",
    "\n",
    "\n",
    "\n",
    "\n",
    "arr=[170,45,75,90,802,24,2,66]\n",
    "print(\"before sort\",arr)\n",
    "radix_sort(arr)\n",
    "print(\"after sort\",arr)\n"
   ]
  },
  {
   "cell_type": "code",
   "execution_count": null,
   "id": "0e567538-005a-46d7-8bb3-20a449728aaf",
   "metadata": {},
   "outputs": [],
   "source": []
  }
 ],
 "metadata": {
  "kernelspec": {
   "display_name": "Python 3 (ipykernel)",
   "language": "python",
   "name": "python3"
  },
  "language_info": {
   "codemirror_mode": {
    "name": "ipython",
    "version": 3
   },
   "file_extension": ".py",
   "mimetype": "text/x-python",
   "name": "python",
   "nbconvert_exporter": "python",
   "pygments_lexer": "ipython3",
   "version": "3.12.7"
  }
 },
 "nbformat": 4,
 "nbformat_minor": 5
}
