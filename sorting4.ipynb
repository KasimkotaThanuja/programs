{
 "cells": [
  {
   "cell_type": "code",
   "execution_count": 5,
   "id": "f575e8db-42b4-41a8-8371-88d07e770673",
   "metadata": {},
   "outputs": [
    {
     "name": "stdin",
     "output_type": "stream",
     "text": [
      "enter numbers seperated with space:  22 14 66 23 88\n"
     ]
    },
    {
     "name": "stdout",
     "output_type": "stream",
     "text": [
      " flip at 3: [66, 14, 22, 23, 88]\n",
      " flip at 4: [23, 22, 14, 66, 88]\n",
      " flip at 3: [14, 22, 23, 66, 88]\n",
      "sorted [14, 22, 23, 66, 88]\n"
     ]
    }
   ],
   "source": [
    "#pancake sort\n",
    "'''algo:\n",
    "start copmplete array and decrese the size(n-1)\n",
    "for each size:\n",
    "find the index of max element\n",
    "flip the array with max size or max element index value\n",
    "each size flip the total array to the current size\n",
    "max-> move to the end of the arrayrepeat step by n-2,n-3.....\n",
    "for nth reduced element perform step2 until 0th index value respectively...'''\n",
    "\n",
    "#arr=[88,9,0,5]\n",
    "\n",
    "def flip(arr,k):\n",
    "    return arr[:k+1][::-1]+ arr[k+1:]\n",
    "def pancake(arr):\n",
    "    n= len(arr)\n",
    "    for size in range(n,1,-1):\n",
    "        max_index= arr.index(max(arr[:size]))\n",
    "        if max_index != size-1:\n",
    "            if max_index != 0:\n",
    "                arr= flip(arr, max_index)\n",
    "                print(f\" flip at {max_index+1}: {arr}\")\n",
    "            arr=flip(arr, size-1)\n",
    "            print(f\" flip at {size}: {arr}\")\n",
    "    return arr\n",
    "\n",
    "\n",
    "\n",
    "nums= list(map(int,input(\"enter numbers seperated with space: \").split()))\n",
    "sorted_nums= pancake(nums)\n",
    "print(\"sorted\",sorted_nums)\n",
    "    "
   ]
  },
  {
   "cell_type": "code",
   "execution_count": null,
   "id": "c0901952-f94e-4538-a0d0-684c8fd06623",
   "metadata": {},
   "outputs": [],
   "source": []
  }
 ],
 "metadata": {
  "kernelspec": {
   "display_name": "Python 3 (ipykernel)",
   "language": "python",
   "name": "python3"
  },
  "language_info": {
   "codemirror_mode": {
    "name": "ipython",
    "version": 3
   },
   "file_extension": ".py",
   "mimetype": "text/x-python",
   "name": "python",
   "nbconvert_exporter": "python",
   "pygments_lexer": "ipython3",
   "version": "3.12.7"
  }
 },
 "nbformat": 4,
 "nbformat_minor": 5
}
